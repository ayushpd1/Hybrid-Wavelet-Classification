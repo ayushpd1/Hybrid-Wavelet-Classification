{
  "nbformat": 4,
  "nbformat_minor": 0,
  "metadata": {
    "colab": {
      "provenance": [],
      "gpuType": "T4"
    },
    "kernelspec": {
      "name": "python3",
      "display_name": "Python 3"
    },
    "language_info": {
      "name": "python"
    },
    "accelerator": "GPU"
  },
  "cells": [
    {
      "cell_type": "code",
      "execution_count": 1,
      "metadata": {
        "colab": {
          "base_uri": "https://localhost:8080/"
        },
        "id": "TBOpL9QzcC_Y",
        "outputId": "661a2ee2-e85c-4e23-d70a-e9ab6a661360"
      },
      "outputs": [
        {
          "output_type": "stream",
          "name": "stdout",
          "text": [
            "Mounted at /content/drive\n",
            "Archive:  /content/drive/MyDrive/hsi_data_pca.zip\n",
            "  inflating: /content/hsi_data/preprocessed/y_train.npy  \n",
            "  inflating: /content/hsi_data/preprocessed/y_test.npy  \n",
            "  inflating: /content/hsi_data/preprocessed/X_test.npy  \n",
            "  inflating: /content/hsi_data/preprocessed/X_train.npy  \n",
            "  inflating: /content/hsi_data/preprocessedd/y_train.npy  \n",
            "  inflating: /content/hsi_data/preprocessedd/y_test.npy  \n",
            "  inflating: /content/hsi_data/preprocessedd/X_test.npy  \n",
            "  inflating: /content/hsi_data/preprocessedd/X_train.npy  \n",
            "total 734M\n",
            "-rw-r--r-- 1 root root 661M Sep  8 10:24 X_test.npy\n",
            "-rw-r--r-- 1 root root  73M Sep  8 10:24 X_train.npy\n",
            "-rw-r--r-- 1 root root  73K Sep  8 10:24 y_test.npy\n",
            "-rw-r--r-- 1 root root 8.1K Sep  8 10:24 y_train.npy\n"
          ]
        }
      ],
      "source": [
        "from google.colab import drive\n",
        "drive.mount('/content/drive',force_remount=True)\n",
        "\n",
        "zip_path = \"/content/drive/MyDrive/hsi_data_pca.zip\"\n",
        "!unzip -o \"{zip_path}\" -d /content/hsi_data\n",
        "!ls -lh /content/hsi_data/preprocessedd"
      ]
    },
    {
      "cell_type": "code",
      "source": [
        "import numpy as np\n",
        "\n",
        "X_train = np.load(\"/content/hsi_data/preprocessedd/X_train.npy\")\n",
        "X_test  = np.load(\"/content/hsi_data/preprocessedd/X_test.npy\")\n",
        "y_train = np.load(\"/content/hsi_data/preprocessedd/y_train.npy\")\n",
        "y_test  = np.load(\"/content/hsi_data/preprocessedd/y_test.npy\")\n",
        "\n",
        "print(X_train.shape, X_test.shape)\n",
        "print(y_train.shape, y_test.shape)"
      ],
      "metadata": {
        "colab": {
          "base_uri": "https://localhost:8080/"
        },
        "id": "B-2dfiuUc8Pm",
        "outputId": "a78eb100-044b-477d-f99a-bb6aae9c450c"
      },
      "execution_count": 2,
      "outputs": [
        {
          "output_type": "stream",
          "name": "stdout",
          "text": [
            "(1018, 25, 25, 30) (9231, 25, 25, 30)\n",
            "(1018,) (9231,)\n"
          ]
        }
      ]
    },
    {
      "cell_type": "code",
      "source": [
        "import torch\n",
        "import torch.nn as nn\n",
        "import torch.nn.functional as F\n",
        "from torch.utils.data import Dataset, DataLoader\n",
        "from torch.optim import AdamW\n",
        "from torch.optim.lr_scheduler import ReduceLROnPlateau\n",
        "import numpy as np\n",
        "import pywt\n",
        "from sklearn.model_selection import train_test_split\n",
        "from sklearn.preprocessing import LabelEncoder\n",
        "from torch.optim.lr_scheduler import CosineAnnealingLR\n",
        "\n",
        "\n",
        "# Device\n",
        "device = torch.device(\"cuda\" if torch.cuda.is_available() else \"cpu\")\n",
        "print(\"Using device:\", device)"
      ],
      "metadata": {
        "colab": {
          "base_uri": "https://localhost:8080/"
        },
        "id": "ibgEI4cnWisH",
        "outputId": "fd1b74d6-0863-421c-c141-ba7cc84f7c2c"
      },
      "execution_count": 42,
      "outputs": [
        {
          "output_type": "stream",
          "name": "stdout",
          "text": [
            "Using device: cuda\n"
          ]
        }
      ]
    },
    {
      "cell_type": "code",
      "source": [
        "le = LabelEncoder()\n",
        "y_train = le.fit_transform(y_train)\n",
        "y_test  = le.transform(y_test)\n",
        "\n",
        "print(\"Shapes:\", X_train.shape, X_test.shape, y_train.shape, y_test.shape)"
      ],
      "metadata": {
        "colab": {
          "base_uri": "https://localhost:8080/"
        },
        "id": "ANrzlaicZa8X",
        "outputId": "ff23f08d-b41b-4c52-b0b2-d4c33208aad1"
      },
      "execution_count": 20,
      "outputs": [
        {
          "output_type": "stream",
          "name": "stdout",
          "text": [
            "Shapes: (1018, 25, 25, 30) (9231, 25, 25, 30) (1018,) (9231,)\n"
          ]
        }
      ]
    },
    {
      "cell_type": "code",
      "source": [
        "class HSI_Dataset(Dataset):\n",
        "    def __init__(self, X, y, augment=False):\n",
        "        self.X = X\n",
        "        self.y = y\n",
        "        self.augment = augment\n",
        "\n",
        "    def __len__(self):\n",
        "        return len(self.X)\n",
        "\n",
        "    def __getitem__(self, idx):\n",
        "        x = self.X[idx].astype(np.float32)\n",
        "        y = self.y[idx]\n",
        "\n",
        "        if self.augment:\n",
        "            # Simple augmentation: add Gaussian noise\n",
        "            x = x + np.random.normal(0, 0.01, x.shape).astype(np.float32)\n",
        "\n",
        "        return torch.tensor(x), torch.tensor(y)\n",
        "\n",
        "# Create datasets\n",
        "train_dataset = HSI_Dataset(X_train, y_train, augment=True)\n",
        "test_dataset  = HSI_Dataset(X_test, y_test, augment=False)\n",
        "\n",
        "# Dataloaders\n",
        "batch_size = 16\n",
        "train_loader = DataLoader(train_dataset, batch_size=batch_size, shuffle=True, pin_memory=True)\n",
        "test_loader  = DataLoader(test_dataset, batch_size=batch_size, shuffle=False, pin_memory=True)"
      ],
      "metadata": {
        "id": "yTa1YdsTc9Zq"
      },
      "execution_count": 21,
      "outputs": []
    },
    {
      "cell_type": "code",
      "source": [
        "# 3D Conv Branch\n",
        "class Branch3DConv(nn.Module):\n",
        "    def __init__(self, in_bands, out_dim=128):\n",
        "        super().__init__()\n",
        "        self.conv = nn.Sequential(\n",
        "            nn.Conv3d(1, 16, kernel_size=(3,3,3), padding=1),\n",
        "            nn.BatchNorm3d(16),\n",
        "            nn.ReLU(),\n",
        "            nn.Conv3d(16, 32, kernel_size=(3,3,3), padding=1),\n",
        "            nn.BatchNorm3d(32),\n",
        "            nn.ReLU(),\n",
        "            nn.Conv3d(32, 64, kernel_size=(3,3,3), padding=1),\n",
        "            nn.BatchNorm3d(64),\n",
        "            nn.ReLU(),\n",
        "            nn.AdaptiveAvgPool3d(1)\n",
        "        )\n",
        "        self.fc = nn.Linear(64, out_dim)\n",
        "\n",
        "    def forward(self, x):\n",
        "        x = x.permute(0,3,1,2).unsqueeze(1)  # [B,1,bands,H,W]\n",
        "        out = self.conv(x)\n",
        "        out = out.view(out.size(0), -1)\n",
        "        return self.fc(out)"
      ],
      "metadata": {
        "id": "RLeUl03ic-_Y"
      },
      "execution_count": 22,
      "outputs": []
    },
    {
      "cell_type": "code",
      "source": [
        "# 1D Haar\n",
        "class BranchHaar1D(nn.Module):\n",
        "    def __init__(self, in_bands, out_dim=128):\n",
        "        super().__init__()\n",
        "        self.fc = None\n",
        "        self.out_dim = out_dim\n",
        "\n",
        "    def forward(self, x):\n",
        "        x_avg = x.mean(-3).mean(-2)  # [B, bands]\n",
        "        coeffs_list = []\n",
        "        for i in range(x_avg.shape[0]):\n",
        "            arr = x_avg[i].detach().cpu().numpy()\n",
        "            cA, cD = pywt.dwt(arr, 'haar')\n",
        "            coeffs_list.append(np.concatenate([cA, cD]))\n",
        "        coeffs = torch.tensor(np.stack(coeffs_list), dtype=torch.float32, device=x.device)\n",
        "        if self.fc is None:\n",
        "            self.fc = nn.Linear(coeffs.shape[1], self.out_dim).to(x.device)\n",
        "        return self.fc(coeffs)\n",
        "\n",
        "# 2D Haar\n",
        "class BranchHaar2D(nn.Module):\n",
        "    def __init__(self, out_dim=128):\n",
        "        super().__init__()\n",
        "        self.fc = None\n",
        "        self.out_dim = out_dim\n",
        "\n",
        "    def forward(self, x):\n",
        "        x_avg = x.mean(-1)  # [B,H,W]\n",
        "        coeffs_list = []\n",
        "        for i in range(x_avg.shape[0]):\n",
        "            arr = x_avg[i].detach().cpu().numpy()\n",
        "            cA, (cH, cV, cD) = pywt.dwt2(arr, 'haar')\n",
        "            coeffs_list.append(np.concatenate([cA.flatten(), cH.flatten(), cV.flatten(), cD.flatten()]))\n",
        "        coeffs = torch.tensor(np.stack(coeffs_list), dtype=torch.float32, device=x.device)\n",
        "        if self.fc is None:\n",
        "            self.fc = nn.Linear(coeffs.shape[1], self.out_dim).to(x.device)\n",
        "        return self.fc(coeffs)\n",
        "\n",
        "# 3D Haar\n",
        "class BranchHaar3D(nn.Module):\n",
        "    def __init__(self, out_dim=128):\n",
        "        super().__init__()\n",
        "        self.fc = None\n",
        "        self.out_dim = out_dim\n",
        "\n",
        "    def forward(self, x):\n",
        "        x_perm = x.permute(0,3,1,2)\n",
        "        coeffs_list = []\n",
        "        for i in range(x_perm.shape[0]):\n",
        "            temp_list = []\n",
        "            for b in range(x_perm.shape[1]):\n",
        "                arr = x_perm[i,b].detach().cpu().numpy()\n",
        "                cA, cD = pywt.dwt(arr, 'haar')\n",
        "                temp_list.append(np.concatenate([cA.flatten(), cD.flatten()]))\n",
        "            coeffs_list.append(np.concatenate(temp_list))\n",
        "        coeffs = torch.tensor(np.stack(coeffs_list), dtype=torch.float32, device=x.device)\n",
        "        if self.fc is None:\n",
        "            self.fc = nn.Linear(coeffs.shape[1], self.out_dim).to(x.device)\n",
        "        return self.fc(coeffs)"
      ],
      "metadata": {
        "id": "qcUnGBPkdNYP"
      },
      "execution_count": 23,
      "outputs": []
    },
    {
      "cell_type": "code",
      "source": [
        "class SEBlock(nn.Module):\n",
        "    def __init__(self, channel, reduction=16):\n",
        "        super().__init__()\n",
        "        self.fc1 = nn.Linear(channel, channel // reduction)\n",
        "        self.fc2 = nn.Linear(channel // reduction, channel)\n",
        "\n",
        "    def forward(self, x):\n",
        "        y = x.mean(dim=0, keepdim=True)    # global squeeze\n",
        "        y = F.relu(self.fc1(y))\n",
        "        y = torch.sigmoid(self.fc2(y))\n",
        "        return x * y                       # scale features\n",
        "\n",
        "class MultiBranchModelSE(nn.Module):\n",
        "    def __init__(self, in_bands, num_classes, out_dim=128):\n",
        "        super().__init__()\n",
        "        self.branch1 = Branch3DConv(in_bands, out_dim)\n",
        "        self.branch2 = BranchHaar1D(in_bands, out_dim)\n",
        "        self.branch3 = BranchHaar2D(out_dim)\n",
        "        self.branch4 = BranchHaar3D(out_dim)\n",
        "\n",
        "        self.se1 = SEBlock(out_dim)\n",
        "        self.se2 = SEBlock(out_dim)\n",
        "        self.se3 = SEBlock(out_dim)\n",
        "        self.se4 = SEBlock(out_dim)\n",
        "\n",
        "        self.fc1 = nn.Linear(out_dim*4, 512)\n",
        "        self.dropout = nn.Dropout(0.6)\n",
        "        self.fc2 = nn.Linear(512, num_classes)\n",
        "\n",
        "    def forward(self, x):\n",
        "        b1 = self.se1(self.branch1(x))\n",
        "        b2 = self.se2(self.branch2(x))\n",
        "        b3 = self.se3(self.branch3(x))\n",
        "        b4 = self.se4(self.branch4(x))\n",
        "        fused = torch.cat([b1,b2,b3,b4], dim=1)\n",
        "        fused = F.relu(self.fc1(fused))\n",
        "        fused = self.dropout(fused)\n",
        "        return self.fc2(fused)"
      ],
      "metadata": {
        "id": "P5x6FQXgdW8j"
      },
      "execution_count": 46,
      "outputs": []
    },
    {
      "cell_type": "code",
      "source": [
        "in_bands = X_train.shape[3]   # [B,H,W,bands]\n",
        "num_classes = len(np.unique(y_train))\n",
        "\n",
        "model = MultiBranchModelSE(in_bands, num_classes, out_dim=128).to(device)\n",
        "print(model)"
      ],
      "metadata": {
        "id": "mu2qrLexdZK-",
        "colab": {
          "base_uri": "https://localhost:8080/"
        },
        "outputId": "2309ec52-1eb4-4381-db47-e152c58bf5ac"
      },
      "execution_count": 47,
      "outputs": [
        {
          "output_type": "stream",
          "name": "stdout",
          "text": [
            "MultiBranchModelSE(\n",
            "  (branch1): Branch3DConv(\n",
            "    (conv): Sequential(\n",
            "      (0): Conv3d(1, 16, kernel_size=(3, 3, 3), stride=(1, 1, 1), padding=(1, 1, 1))\n",
            "      (1): BatchNorm3d(16, eps=1e-05, momentum=0.1, affine=True, track_running_stats=True)\n",
            "      (2): ReLU()\n",
            "      (3): Conv3d(16, 32, kernel_size=(3, 3, 3), stride=(1, 1, 1), padding=(1, 1, 1))\n",
            "      (4): BatchNorm3d(32, eps=1e-05, momentum=0.1, affine=True, track_running_stats=True)\n",
            "      (5): ReLU()\n",
            "      (6): Conv3d(32, 64, kernel_size=(3, 3, 3), stride=(1, 1, 1), padding=(1, 1, 1))\n",
            "      (7): BatchNorm3d(64, eps=1e-05, momentum=0.1, affine=True, track_running_stats=True)\n",
            "      (8): ReLU()\n",
            "      (9): AdaptiveAvgPool3d(output_size=1)\n",
            "    )\n",
            "    (fc): Linear(in_features=64, out_features=128, bias=True)\n",
            "  )\n",
            "  (branch2): BranchHaar1D()\n",
            "  (branch3): BranchHaar2D()\n",
            "  (branch4): BranchHaar3D()\n",
            "  (se1): SEBlock(\n",
            "    (fc1): Linear(in_features=128, out_features=8, bias=True)\n",
            "    (fc2): Linear(in_features=8, out_features=128, bias=True)\n",
            "  )\n",
            "  (se2): SEBlock(\n",
            "    (fc1): Linear(in_features=128, out_features=8, bias=True)\n",
            "    (fc2): Linear(in_features=8, out_features=128, bias=True)\n",
            "  )\n",
            "  (se3): SEBlock(\n",
            "    (fc1): Linear(in_features=128, out_features=8, bias=True)\n",
            "    (fc2): Linear(in_features=8, out_features=128, bias=True)\n",
            "  )\n",
            "  (se4): SEBlock(\n",
            "    (fc1): Linear(in_features=128, out_features=8, bias=True)\n",
            "    (fc2): Linear(in_features=8, out_features=128, bias=True)\n",
            "  )\n",
            "  (fc1): Linear(in_features=512, out_features=512, bias=True)\n",
            "  (dropout): Dropout(p=0.6, inplace=False)\n",
            "  (fc2): Linear(in_features=512, out_features=16, bias=True)\n",
            ")\n"
          ]
        }
      ]
    },
    {
      "cell_type": "code",
      "source": [
        "num_epochs = 200\n"
      ],
      "metadata": {
        "id": "4aD_9DR5urYe"
      },
      "execution_count": 48,
      "outputs": []
    },
    {
      "cell_type": "code",
      "source": [
        "criterion = nn.CrossEntropyLoss()\n",
        "optimizer = AdamW(model.parameters(), lr=1e-3, weight_decay=1e-4)\n",
        "scheduler = CosineAnnealingLR(optimizer, T_max=num_epochs, eta_min=1e-5)"
      ],
      "metadata": {
        "id": "Sjx_VWSJda0t"
      },
      "execution_count": 49,
      "outputs": []
    },
    {
      "cell_type": "code",
      "source": [
        "from tqdm import tqdm\n",
        "import matplotlib.pyplot as plt\n",
        "\n",
        "best_val_loss = np.inf\n",
        "\n",
        "train_losses, val_losses = [], []\n",
        "val_accuracies = []\n",
        "\n",
        "for epoch in range(num_epochs):\n",
        "    model.train()\n",
        "    running_loss = 0\n",
        "\n",
        "    # --- Training Loop ---\n",
        "    train_loader_tqdm = tqdm(train_loader, desc=f\"Epoch {epoch+1}/{num_epochs} [Train]\")\n",
        "    for X_batch, y_batch in train_loader_tqdm:\n",
        "        X_batch, y_batch = X_batch.to(device), y_batch.to(device)\n",
        "        optimizer.zero_grad()\n",
        "        out = model(X_batch)\n",
        "        loss = criterion(out, y_batch)\n",
        "        loss.backward()\n",
        "        optimizer.step()\n",
        "        running_loss += loss.item() * X_batch.size(0)\n",
        "        train_loader_tqdm.set_postfix({\"loss\": loss.item()})\n",
        "\n",
        "    train_loss = running_loss / len(train_loader.dataset)\n",
        "    train_losses.append(train_loss)\n",
        "\n",
        "    # --- Validation Loop ---\n",
        "    model.eval()\n",
        "    val_loss = 0\n",
        "    correct = 0\n",
        "    total = 0\n",
        "    with torch.no_grad():\n",
        "        val_loader_tqdm = tqdm(test_loader, desc=f\"Epoch {epoch+1}/{num_epochs} [Val]\")\n",
        "        for X_batch, y_batch in val_loader_tqdm:\n",
        "            X_batch, y_batch = X_batch.to(device), y_batch.to(device)\n",
        "            out = model(X_batch)\n",
        "            loss = criterion(out, y_batch)\n",
        "            val_loss += loss.item() * X_batch.size(0)\n",
        "            preds = out.argmax(dim=1)\n",
        "            correct += (preds == y_batch).sum().item()\n",
        "            total += y_batch.size(0)\n",
        "            val_loader_tqdm.set_postfix({\"val_loss\": loss.item()})\n",
        "\n",
        "    val_loss /= len(test_loader.dataset)\n",
        "    val_losses.append(val_loss)\n",
        "    val_acc = correct / total * 100\n",
        "    val_accuracies.append(val_acc)\n",
        "\n",
        "    print(f\"Epoch {epoch+1}: Train Loss={train_loss:.4f}, Val Loss={val_loss:.4f}, Val Acc={val_acc:.2f}%\")\n",
        "\n",
        "    scheduler.step(val_loss)\n",
        "\n",
        "    # --- Save checkpoint if best validation loss ---\n",
        "    if val_loss < best_val_loss:\n",
        "        best_val_loss = val_loss\n",
        "        torch.save(model.state_dict(), \"best_model.pth\")\n",
        "        print(f\"Checkpoint saved at epoch {epoch+1}\")\n",
        "\n",
        "# --- Plot Validation Accuracy ---\n",
        "plt.figure(figsize=(10,5))\n",
        "plt.plot(val_accuracies, label='Validation Accuracy', marker='o')\n",
        "plt.xlabel('Epoch')\n",
        "plt.ylabel('Accuracy (%)')\n",
        "plt.title('Epoch vs Validation Accuracy')\n",
        "plt.legend()\n",
        "plt.grid(True)\n",
        "plt.show()"
      ],
      "metadata": {
        "colab": {
          "base_uri": "https://localhost:8080/",
          "height": 1000
        },
        "id": "2QNJbGT2fUzG",
        "outputId": "f4176015-af41-4a49-998e-d8e7e514cefe"
      },
      "execution_count": 50,
      "outputs": [
        {
          "metadata": {
            "tags": null
          },
          "name": "stderr",
          "output_type": "stream",
          "text": [
            "Epoch 1/200 [Train]: 100%|██████████| 64/64 [00:08<00:00,  7.77it/s, loss=1.85]\n",
            "Epoch 1/200 [Val]: 100%|██████████| 577/577 [00:49<00:00, 11.65it/s, val_loss=6.02]\n"
          ]
        },
        {
          "metadata": {
            "tags": null
          },
          "name": "stdout",
          "output_type": "stream",
          "text": [
            "Epoch 1: Train Loss=2.0163, Val Loss=1.8293, Val Acc=41.08%\n",
            "Checkpoint saved at epoch 1\n"
          ]
        },
        {
          "metadata": {
            "tags": null
          },
          "name": "stderr",
          "output_type": "stream",
          "text": [
            "Epoch 2/200 [Train]: 100%|██████████| 64/64 [00:08<00:00,  7.28it/s, loss=0.732]\n",
            "Epoch 2/200 [Val]: 100%|██████████| 577/577 [00:48<00:00, 11.98it/s, val_loss=4.82]\n"
          ]
        },
        {
          "metadata": {
            "tags": null
          },
          "name": "stdout",
          "output_type": "stream",
          "text": [
            "Epoch 2: Train Loss=1.1749, Val Loss=1.1636, Val Acc=60.70%\n",
            "Checkpoint saved at epoch 2\n"
          ]
        },
        {
          "metadata": {
            "tags": null
          },
          "name": "stderr",
          "output_type": "stream",
          "text": [
            "Epoch 3/200 [Train]: 100%|██████████| 64/64 [00:08<00:00,  7.37it/s, loss=0.962]\n",
            "Epoch 3/200 [Val]: 100%|██████████| 577/577 [00:48<00:00, 11.84it/s, val_loss=1.95]\n"
          ]
        },
        {
          "metadata": {
            "tags": null
          },
          "name": "stdout",
          "output_type": "stream",
          "text": [
            "Epoch 3: Train Loss=0.8200, Val Loss=0.7881, Val Acc=77.11%\n",
            "Checkpoint saved at epoch 3\n"
          ]
        },
        {
          "metadata": {
            "tags": null
          },
          "name": "stderr",
          "output_type": "stream",
          "text": [
            "Epoch 4/200 [Train]: 100%|██████████| 64/64 [00:08<00:00,  7.66it/s, loss=0.364]\n",
            "Epoch 4/200 [Val]: 100%|██████████| 577/577 [00:49<00:00, 11.63it/s, val_loss=1.97]\n"
          ]
        },
        {
          "metadata": {
            "tags": null
          },
          "name": "stdout",
          "output_type": "stream",
          "text": [
            "Epoch 4: Train Loss=0.5960, Val Loss=0.9462, Val Acc=65.26%\n"
          ]
        },
        {
          "metadata": {
            "tags": null
          },
          "name": "stderr",
          "output_type": "stream",
          "text": [
            "Epoch 5/200 [Train]: 100%|██████████| 64/64 [00:08<00:00,  7.15it/s, loss=0.507]\n",
            "Epoch 5/200 [Val]: 100%|██████████| 577/577 [00:49<00:00, 11.73it/s, val_loss=0.832]\n"
          ]
        },
        {
          "metadata": {
            "tags": null
          },
          "name": "stdout",
          "output_type": "stream",
          "text": [
            "Epoch 5: Train Loss=0.4511, Val Loss=0.5259, Val Acc=84.94%\n",
            "Checkpoint saved at epoch 5\n"
          ]
        },
        {
          "metadata": {
            "tags": null
          },
          "name": "stderr",
          "output_type": "stream",
          "text": [
            "Epoch 6/200 [Train]: 100%|██████████| 64/64 [00:08<00:00,  7.71it/s, loss=0.383]\n",
            "Epoch 6/200 [Val]: 100%|██████████| 577/577 [00:48<00:00, 11.83it/s, val_loss=1.02]\n"
          ]
        },
        {
          "metadata": {
            "tags": null
          },
          "name": "stdout",
          "output_type": "stream",
          "text": [
            "Epoch 6: Train Loss=0.3149, Val Loss=0.6170, Val Acc=78.62%\n"
          ]
        },
        {
          "metadata": {
            "tags": null
          },
          "name": "stderr",
          "output_type": "stream",
          "text": [
            "Epoch 7/200 [Train]: 100%|██████████| 64/64 [00:08<00:00,  7.36it/s, loss=0.714]\n",
            "Epoch 7/200 [Val]: 100%|██████████| 577/577 [00:48<00:00, 11.91it/s, val_loss=0.919]\n"
          ]
        },
        {
          "metadata": {
            "tags": null
          },
          "name": "stdout",
          "output_type": "stream",
          "text": [
            "Epoch 7: Train Loss=0.2368, Val Loss=0.4139, Val Acc=86.69%\n",
            "Checkpoint saved at epoch 7\n"
          ]
        },
        {
          "metadata": {
            "tags": null
          },
          "name": "stderr",
          "output_type": "stream",
          "text": [
            "Epoch 8/200 [Train]: 100%|██████████| 64/64 [00:08<00:00,  7.33it/s, loss=0.471]\n",
            "Epoch 8/200 [Val]: 100%|██████████| 577/577 [00:48<00:00, 11.84it/s, val_loss=1.03]\n"
          ]
        },
        {
          "metadata": {
            "tags": null
          },
          "name": "stdout",
          "output_type": "stream",
          "text": [
            "Epoch 8: Train Loss=0.1780, Val Loss=0.4082, Val Acc=86.33%\n",
            "Checkpoint saved at epoch 8\n"
          ]
        },
        {
          "metadata": {
            "tags": null
          },
          "name": "stderr",
          "output_type": "stream",
          "text": [
            "Epoch 9/200 [Train]: 100%|██████████| 64/64 [00:08<00:00,  7.62it/s, loss=0.0465]\n",
            "Epoch 9/200 [Val]: 100%|██████████| 577/577 [00:48<00:00, 11.82it/s, val_loss=0.823]\n"
          ]
        },
        {
          "metadata": {
            "tags": null
          },
          "name": "stdout",
          "output_type": "stream",
          "text": [
            "Epoch 9: Train Loss=0.1283, Val Loss=0.4262, Val Acc=85.59%\n"
          ]
        },
        {
          "metadata": {
            "tags": null
          },
          "name": "stderr",
          "output_type": "stream",
          "text": [
            "Epoch 10/200 [Train]: 100%|██████████| 64/64 [00:08<00:00,  7.23it/s, loss=0.106]\n",
            "Epoch 10/200 [Val]: 100%|██████████| 577/577 [00:49<00:00, 11.77it/s, val_loss=0.678]\n"
          ]
        },
        {
          "metadata": {
            "tags": null
          },
          "name": "stdout",
          "output_type": "stream",
          "text": [
            "Epoch 10: Train Loss=0.1028, Val Loss=0.4354, Val Acc=85.43%\n"
          ]
        },
        {
          "metadata": {
            "tags": null
          },
          "name": "stderr",
          "output_type": "stream",
          "text": [
            "Epoch 11/200 [Train]: 100%|██████████| 64/64 [00:08<00:00,  7.81it/s, loss=0.103]\n",
            "Epoch 11/200 [Val]: 100%|██████████| 577/577 [00:49<00:00, 11.65it/s, val_loss=1.01]\n"
          ]
        },
        {
          "metadata": {
            "tags": null
          },
          "name": "stdout",
          "output_type": "stream",
          "text": [
            "Epoch 11: Train Loss=0.0795, Val Loss=0.3923, Val Acc=87.10%\n",
            "Checkpoint saved at epoch 11\n"
          ]
        },
        {
          "metadata": {
            "tags": null
          },
          "name": "stderr",
          "output_type": "stream",
          "text": [
            "Epoch 12/200 [Train]: 100%|██████████| 64/64 [00:08<00:00,  7.30it/s, loss=0.0699]\n",
            "Epoch 12/200 [Val]: 100%|██████████| 577/577 [00:48<00:00, 11.83it/s, val_loss=0.75]\n"
          ]
        },
        {
          "metadata": {
            "tags": null
          },
          "name": "stdout",
          "output_type": "stream",
          "text": [
            "Epoch 12: Train Loss=0.0612, Val Loss=0.4112, Val Acc=86.53%\n"
          ]
        },
        {
          "metadata": {
            "tags": null
          },
          "name": "stderr",
          "output_type": "stream",
          "text": [
            "Epoch 13/200 [Train]: 100%|██████████| 64/64 [00:08<00:00,  7.64it/s, loss=0.196]\n",
            "Epoch 13/200 [Val]: 100%|██████████| 577/577 [00:49<00:00, 11.74it/s, val_loss=0.686]\n"
          ]
        },
        {
          "metadata": {
            "tags": null
          },
          "name": "stdout",
          "output_type": "stream",
          "text": [
            "Epoch 13: Train Loss=0.0546, Val Loss=0.4055, Val Acc=86.59%\n"
          ]
        },
        {
          "metadata": {
            "tags": null
          },
          "name": "stderr",
          "output_type": "stream",
          "text": [
            "Epoch 14/200 [Train]: 100%|██████████| 64/64 [00:08<00:00,  7.27it/s, loss=0.0276]\n",
            "Epoch 14/200 [Val]: 100%|██████████| 577/577 [00:48<00:00, 11.92it/s, val_loss=0.759]\n"
          ]
        },
        {
          "metadata": {
            "tags": null
          },
          "name": "stdout",
          "output_type": "stream",
          "text": [
            "Epoch 14: Train Loss=0.0550, Val Loss=0.3661, Val Acc=88.14%\n",
            "Checkpoint saved at epoch 14\n"
          ]
        },
        {
          "metadata": {
            "tags": null
          },
          "name": "stderr",
          "output_type": "stream",
          "text": [
            "Epoch 15/200 [Train]: 100%|██████████| 64/64 [00:08<00:00,  7.39it/s, loss=0.0603]\n",
            "Epoch 15/200 [Val]: 100%|██████████| 577/577 [00:48<00:00, 11.81it/s, val_loss=0.883]\n"
          ]
        },
        {
          "metadata": {
            "tags": null
          },
          "name": "stdout",
          "output_type": "stream",
          "text": [
            "Epoch 15: Train Loss=0.0348, Val Loss=0.3442, Val Acc=88.58%\n",
            "Checkpoint saved at epoch 15\n"
          ]
        },
        {
          "metadata": {
            "tags": null
          },
          "name": "stderr",
          "output_type": "stream",
          "text": [
            "Epoch 16/200 [Train]: 100%|██████████| 64/64 [00:08<00:00,  7.53it/s, loss=0.023]\n",
            "Epoch 16/200 [Val]: 100%|██████████| 577/577 [00:48<00:00, 11.92it/s, val_loss=0.733]\n"
          ]
        },
        {
          "metadata": {
            "tags": null
          },
          "name": "stdout",
          "output_type": "stream",
          "text": [
            "Epoch 16: Train Loss=0.0348, Val Loss=0.4606, Val Acc=84.74%\n"
          ]
        },
        {
          "metadata": {
            "tags": null
          },
          "name": "stderr",
          "output_type": "stream",
          "text": [
            "Epoch 17/200 [Train]: 100%|██████████| 64/64 [00:08<00:00,  7.25it/s, loss=0.0748]\n",
            "Epoch 17/200 [Val]: 100%|██████████| 577/577 [00:48<00:00, 11.79it/s, val_loss=0.51]\n"
          ]
        },
        {
          "metadata": {
            "tags": null
          },
          "name": "stdout",
          "output_type": "stream",
          "text": [
            "Epoch 17: Train Loss=0.0237, Val Loss=0.3637, Val Acc=88.14%\n"
          ]
        },
        {
          "metadata": {
            "tags": null
          },
          "name": "stderr",
          "output_type": "stream",
          "text": [
            "Epoch 18/200 [Train]: 100%|██████████| 64/64 [00:08<00:00,  7.78it/s, loss=0.00843]\n",
            "Epoch 18/200 [Val]: 100%|██████████| 577/577 [00:49<00:00, 11.58it/s, val_loss=0.797]\n"
          ]
        },
        {
          "metadata": {
            "tags": null
          },
          "name": "stdout",
          "output_type": "stream",
          "text": [
            "Epoch 18: Train Loss=0.0251, Val Loss=0.4178, Val Acc=86.59%\n"
          ]
        },
        {
          "metadata": {
            "tags": null
          },
          "name": "stderr",
          "output_type": "stream",
          "text": [
            "Epoch 19/200 [Train]: 100%|██████████| 64/64 [00:09<00:00,  7.10it/s, loss=0.00665]\n",
            "Epoch 19/200 [Val]: 100%|██████████| 577/577 [00:50<00:00, 11.48it/s, val_loss=0.851]\n"
          ]
        },
        {
          "metadata": {
            "tags": null
          },
          "name": "stdout",
          "output_type": "stream",
          "text": [
            "Epoch 19: Train Loss=0.0231, Val Loss=0.3580, Val Acc=88.79%\n"
          ]
        },
        {
          "metadata": {
            "tags": null
          },
          "name": "stderr",
          "output_type": "stream",
          "text": [
            "Epoch 20/200 [Train]: 100%|██████████| 64/64 [00:08<00:00,  7.71it/s, loss=0.0268]\n",
            "Epoch 20/200 [Val]: 100%|██████████| 577/577 [00:50<00:00, 11.42it/s, val_loss=0.757]\n"
          ]
        },
        {
          "metadata": {
            "tags": null
          },
          "name": "stdout",
          "output_type": "stream",
          "text": [
            "Epoch 20: Train Loss=0.0189, Val Loss=0.4785, Val Acc=85.67%\n"
          ]
        },
        {
          "metadata": {
            "tags": null
          },
          "name": "stderr",
          "output_type": "stream",
          "text": [
            "Epoch 21/200 [Train]: 100%|██████████| 64/64 [00:09<00:00,  7.06it/s, loss=0.0182]\n",
            "Epoch 21/200 [Val]: 100%|██████████| 577/577 [00:49<00:00, 11.64it/s, val_loss=0.933]\n"
          ]
        },
        {
          "metadata": {
            "tags": null
          },
          "name": "stdout",
          "output_type": "stream",
          "text": [
            "Epoch 21: Train Loss=0.0279, Val Loss=0.4749, Val Acc=84.96%\n"
          ]
        },
        {
          "metadata": {
            "tags": null
          },
          "name": "stderr",
          "output_type": "stream",
          "text": [
            "Epoch 22/200 [Train]: 100%|██████████| 64/64 [00:08<00:00,  7.73it/s, loss=0.0149]\n",
            "Epoch 22/200 [Val]: 100%|██████████| 577/577 [00:49<00:00, 11.65it/s, val_loss=0.967]\n"
          ]
        },
        {
          "metadata": {
            "tags": null
          },
          "name": "stdout",
          "output_type": "stream",
          "text": [
            "Epoch 22: Train Loss=0.0138, Val Loss=0.4287, Val Acc=87.23%\n"
          ]
        },
        {
          "metadata": {
            "tags": null
          },
          "name": "stderr",
          "output_type": "stream",
          "text": [
            "Epoch 23/200 [Train]: 100%|██████████| 64/64 [00:08<00:00,  7.24it/s, loss=0.0142]\n",
            "Epoch 23/200 [Val]: 100%|██████████| 577/577 [00:49<00:00, 11.75it/s, val_loss=0.975]\n"
          ]
        },
        {
          "metadata": {
            "tags": null
          },
          "name": "stdout",
          "output_type": "stream",
          "text": [
            "Epoch 23: Train Loss=0.0137, Val Loss=0.3545, Val Acc=88.57%\n"
          ]
        },
        {
          "metadata": {
            "tags": null
          },
          "name": "stderr",
          "output_type": "stream",
          "text": [
            "Epoch 24/200 [Train]: 100%|██████████| 64/64 [00:08<00:00,  7.76it/s, loss=0.125]\n",
            "Epoch 24/200 [Val]: 100%|██████████| 577/577 [00:49<00:00, 11.70it/s, val_loss=0.829]\n"
          ]
        },
        {
          "metadata": {
            "tags": null
          },
          "name": "stdout",
          "output_type": "stream",
          "text": [
            "Epoch 24: Train Loss=0.0126, Val Loss=0.3648, Val Acc=88.74%\n"
          ]
        },
        {
          "metadata": {
            "tags": null
          },
          "name": "stderr",
          "output_type": "stream",
          "text": [
            "Epoch 25/200 [Train]: 100%|██████████| 64/64 [00:08<00:00,  7.36it/s, loss=0.00559]\n",
            "Epoch 25/200 [Val]: 100%|██████████| 577/577 [00:48<00:00, 11.88it/s, val_loss=0.766]\n"
          ]
        },
        {
          "metadata": {
            "tags": null
          },
          "name": "stdout",
          "output_type": "stream",
          "text": [
            "Epoch 25: Train Loss=0.0141, Val Loss=0.3787, Val Acc=88.66%\n"
          ]
        },
        {
          "metadata": {
            "tags": null
          },
          "name": "stderr",
          "output_type": "stream",
          "text": [
            "Epoch 26/200 [Train]: 100%|██████████| 64/64 [00:08<00:00,  7.28it/s, loss=0.029]\n",
            "Epoch 26/200 [Val]: 100%|██████████| 577/577 [00:48<00:00, 11.87it/s, val_loss=0.97]\n"
          ]
        },
        {
          "metadata": {
            "tags": null
          },
          "name": "stdout",
          "output_type": "stream",
          "text": [
            "Epoch 26: Train Loss=0.0116, Val Loss=0.4022, Val Acc=88.04%\n"
          ]
        },
        {
          "metadata": {
            "tags": null
          },
          "name": "stderr",
          "output_type": "stream",
          "text": [
            "Epoch 27/200 [Train]: 100%|██████████| 64/64 [00:08<00:00,  7.59it/s, loss=0.00124]\n",
            "Epoch 27/200 [Val]: 100%|██████████| 577/577 [00:47<00:00, 12.03it/s, val_loss=0.645]\n"
          ]
        },
        {
          "metadata": {
            "tags": null
          },
          "name": "stdout",
          "output_type": "stream",
          "text": [
            "Epoch 27: Train Loss=0.0096, Val Loss=0.3621, Val Acc=89.04%\n"
          ]
        },
        {
          "metadata": {
            "tags": null
          },
          "name": "stderr",
          "output_type": "stream",
          "text": [
            "Epoch 28/200 [Train]: 100%|██████████| 64/64 [00:08<00:00,  7.45it/s, loss=0.000897]\n",
            "Epoch 28/200 [Val]: 100%|██████████| 577/577 [00:48<00:00, 11.96it/s, val_loss=0.48]\n"
          ]
        },
        {
          "metadata": {
            "tags": null
          },
          "name": "stdout",
          "output_type": "stream",
          "text": [
            "Epoch 28: Train Loss=0.0078, Val Loss=0.3988, Val Acc=88.33%\n"
          ]
        },
        {
          "metadata": {
            "tags": null
          },
          "name": "stderr",
          "output_type": "stream",
          "text": [
            "Epoch 29/200 [Train]: 100%|██████████| 64/64 [00:07<00:00,  8.09it/s, loss=0.00551]\n",
            "Epoch 29/200 [Val]: 100%|██████████| 577/577 [00:49<00:00, 11.67it/s, val_loss=0.565]\n"
          ]
        },
        {
          "metadata": {
            "tags": null
          },
          "name": "stdout",
          "output_type": "stream",
          "text": [
            "Epoch 29: Train Loss=0.0081, Val Loss=0.5977, Val Acc=83.47%\n"
          ]
        },
        {
          "metadata": {
            "tags": null
          },
          "name": "stderr",
          "output_type": "stream",
          "text": [
            "Epoch 30/200 [Train]: 100%|██████████| 64/64 [00:08<00:00,  7.39it/s, loss=0.00706]\n",
            "Epoch 30/200 [Val]: 100%|██████████| 577/577 [00:48<00:00, 11.82it/s, val_loss=0.951]\n"
          ]
        },
        {
          "metadata": {
            "tags": null
          },
          "name": "stdout",
          "output_type": "stream",
          "text": [
            "Epoch 30: Train Loss=0.0057, Val Loss=0.3880, Val Acc=88.91%\n"
          ]
        },
        {
          "metadata": {
            "tags": null
          },
          "name": "stderr",
          "output_type": "stream",
          "text": [
            "Epoch 31/200 [Train]: 100%|██████████| 64/64 [00:08<00:00,  7.44it/s, loss=0.0326]\n",
            "Epoch 31/200 [Val]: 100%|██████████| 577/577 [00:49<00:00, 11.67it/s, val_loss=0.966]\n"
          ]
        },
        {
          "metadata": {
            "tags": null
          },
          "name": "stdout",
          "output_type": "stream",
          "text": [
            "Epoch 31: Train Loss=0.0064, Val Loss=0.3635, Val Acc=89.21%\n"
          ]
        },
        {
          "metadata": {
            "tags": null
          },
          "name": "stderr",
          "output_type": "stream",
          "text": [
            "Epoch 32/200 [Train]: 100%|██████████| 64/64 [00:08<00:00,  7.66it/s, loss=0.0022]\n",
            "Epoch 32/200 [Val]: 100%|██████████| 577/577 [00:49<00:00, 11.67it/s, val_loss=0.652]\n"
          ]
        },
        {
          "metadata": {
            "tags": null
          },
          "name": "stdout",
          "output_type": "stream",
          "text": [
            "Epoch 32: Train Loss=0.0067, Val Loss=0.3911, Val Acc=88.65%\n"
          ]
        },
        {
          "metadata": {
            "tags": null
          },
          "name": "stderr",
          "output_type": "stream",
          "text": [
            "Epoch 33/200 [Train]: 100%|██████████| 64/64 [00:08<00:00,  7.28it/s, loss=0.00245]\n",
            "Epoch 33/200 [Val]: 100%|██████████| 577/577 [00:49<00:00, 11.72it/s, val_loss=0.983]\n"
          ]
        },
        {
          "metadata": {
            "tags": null
          },
          "name": "stdout",
          "output_type": "stream",
          "text": [
            "Epoch 33: Train Loss=0.0076, Val Loss=0.5899, Val Acc=83.54%\n"
          ]
        },
        {
          "metadata": {
            "tags": null
          },
          "name": "stderr",
          "output_type": "stream",
          "text": [
            "Epoch 34/200 [Train]: 100%|██████████| 64/64 [00:08<00:00,  7.97it/s, loss=0.000515]\n",
            "Epoch 34/200 [Val]: 100%|██████████| 577/577 [00:50<00:00, 11.49it/s, val_loss=0.456]\n"
          ]
        },
        {
          "metadata": {
            "tags": null
          },
          "name": "stdout",
          "output_type": "stream",
          "text": [
            "Epoch 34: Train Loss=0.0067, Val Loss=0.3696, Val Acc=89.23%\n"
          ]
        },
        {
          "metadata": {
            "tags": null
          },
          "name": "stderr",
          "output_type": "stream",
          "text": [
            "Epoch 35/200 [Train]: 100%|██████████| 64/64 [00:08<00:00,  7.37it/s, loss=0.00142]\n",
            "Epoch 35/200 [Val]: 100%|██████████| 577/577 [00:49<00:00, 11.54it/s, val_loss=1.38]\n"
          ]
        },
        {
          "metadata": {
            "tags": null
          },
          "name": "stdout",
          "output_type": "stream",
          "text": [
            "Epoch 35: Train Loss=0.0061, Val Loss=0.4340, Val Acc=87.79%\n"
          ]
        },
        {
          "metadata": {
            "tags": null
          },
          "name": "stderr",
          "output_type": "stream",
          "text": [
            "Epoch 36/200 [Train]: 100%|██████████| 64/64 [00:08<00:00,  7.93it/s, loss=0.00613]\n",
            "Epoch 36/200 [Val]: 100%|██████████| 577/577 [00:50<00:00, 11.52it/s, val_loss=1.21]\n"
          ]
        },
        {
          "metadata": {
            "tags": null
          },
          "name": "stdout",
          "output_type": "stream",
          "text": [
            "Epoch 36: Train Loss=0.0085, Val Loss=1.1713, Val Acc=74.98%\n"
          ]
        },
        {
          "metadata": {
            "tags": null
          },
          "name": "stderr",
          "output_type": "stream",
          "text": [
            "Epoch 37/200 [Train]: 100%|██████████| 64/64 [00:08<00:00,  7.39it/s, loss=0.00105]\n",
            "Epoch 37/200 [Val]: 100%|██████████| 577/577 [00:49<00:00, 11.55it/s, val_loss=1.13]\n"
          ]
        },
        {
          "metadata": {
            "tags": null
          },
          "name": "stdout",
          "output_type": "stream",
          "text": [
            "Epoch 37: Train Loss=0.0056, Val Loss=0.3736, Val Acc=89.26%\n"
          ]
        },
        {
          "metadata": {
            "tags": null
          },
          "name": "stderr",
          "output_type": "stream",
          "text": [
            "Epoch 38/200 [Train]: 100%|██████████| 64/64 [00:08<00:00,  7.86it/s, loss=0.0805]\n",
            "Epoch 38/200 [Val]: 100%|██████████| 577/577 [00:49<00:00, 11.61it/s, val_loss=1.19]\n"
          ]
        },
        {
          "metadata": {
            "tags": null
          },
          "name": "stdout",
          "output_type": "stream",
          "text": [
            "Epoch 38: Train Loss=0.0040, Val Loss=0.3872, Val Acc=89.07%\n"
          ]
        },
        {
          "metadata": {
            "tags": null
          },
          "name": "stderr",
          "output_type": "stream",
          "text": [
            "Epoch 39/200 [Train]: 100%|██████████| 64/64 [00:08<00:00,  7.47it/s, loss=0.00171]\n",
            "Epoch 39/200 [Val]: 100%|██████████| 577/577 [00:49<00:00, 11.71it/s, val_loss=0.87]\n"
          ]
        },
        {
          "metadata": {
            "tags": null
          },
          "name": "stdout",
          "output_type": "stream",
          "text": [
            "Epoch 39: Train Loss=0.0081, Val Loss=0.3804, Val Acc=89.32%\n"
          ]
        },
        {
          "metadata": {
            "tags": null
          },
          "name": "stderr",
          "output_type": "stream",
          "text": [
            "Epoch 40/200 [Train]: 100%|██████████| 64/64 [00:08<00:00,  7.72it/s, loss=0.00915]\n",
            "Epoch 40/200 [Val]: 100%|██████████| 577/577 [00:50<00:00, 11.52it/s, val_loss=0.845]\n"
          ]
        },
        {
          "metadata": {
            "tags": null
          },
          "name": "stdout",
          "output_type": "stream",
          "text": [
            "Epoch 40: Train Loss=0.0075, Val Loss=1.0742, Val Acc=76.41%\n"
          ]
        },
        {
          "metadata": {
            "tags": null
          },
          "name": "stderr",
          "output_type": "stream",
          "text": [
            "Epoch 41/200 [Train]: 100%|██████████| 64/64 [00:08<00:00,  7.39it/s, loss=0.00516]\n",
            "Epoch 41/200 [Val]: 100%|██████████| 577/577 [00:49<00:00, 11.69it/s, val_loss=1.11]\n"
          ]
        },
        {
          "metadata": {
            "tags": null
          },
          "name": "stdout",
          "output_type": "stream",
          "text": [
            "Epoch 41: Train Loss=0.0083, Val Loss=3.7287, Val Acc=54.40%\n"
          ]
        },
        {
          "metadata": {
            "tags": null
          },
          "name": "stderr",
          "output_type": "stream",
          "text": [
            "Epoch 42/200 [Train]: 100%|██████████| 64/64 [00:08<00:00,  7.52it/s, loss=0.00648]\n",
            "Epoch 42/200 [Val]: 100%|██████████| 577/577 [00:49<00:00, 11.63it/s, val_loss=0.789]\n"
          ]
        },
        {
          "metadata": {
            "tags": null
          },
          "name": "stdout",
          "output_type": "stream",
          "text": [
            "Epoch 42: Train Loss=0.0057, Val Loss=0.4091, Val Acc=88.13%\n"
          ]
        },
        {
          "metadata": {
            "tags": null
          },
          "name": "stderr",
          "output_type": "stream",
          "text": [
            "Epoch 43/200 [Train]: 100%|██████████| 64/64 [00:08<00:00,  7.49it/s, loss=0.00389]\n",
            "Epoch 43/200 [Val]: 100%|██████████| 577/577 [00:49<00:00, 11.61it/s, val_loss=0.927]\n"
          ]
        },
        {
          "metadata": {
            "tags": null
          },
          "name": "stdout",
          "output_type": "stream",
          "text": [
            "Epoch 43: Train Loss=0.0049, Val Loss=0.3903, Val Acc=88.84%\n"
          ]
        },
        {
          "metadata": {
            "tags": null
          },
          "name": "stderr",
          "output_type": "stream",
          "text": [
            "Epoch 44/200 [Train]: 100%|██████████| 64/64 [00:08<00:00,  7.33it/s, loss=0.00433]\n",
            "Epoch 44/200 [Val]: 100%|██████████| 577/577 [00:49<00:00, 11.63it/s, val_loss=0.74]\n"
          ]
        },
        {
          "metadata": {
            "tags": null
          },
          "name": "stdout",
          "output_type": "stream",
          "text": [
            "Epoch 44: Train Loss=0.0032, Val Loss=0.4318, Val Acc=88.04%\n"
          ]
        },
        {
          "metadata": {
            "tags": null
          },
          "name": "stderr",
          "output_type": "stream",
          "text": [
            "Epoch 45/200 [Train]: 100%|██████████| 64/64 [00:08<00:00,  7.68it/s, loss=0.00132]\n",
            "Epoch 45/200 [Val]: 100%|██████████| 577/577 [00:50<00:00, 11.51it/s, val_loss=0.658]\n"
          ]
        },
        {
          "metadata": {
            "tags": null
          },
          "name": "stdout",
          "output_type": "stream",
          "text": [
            "Epoch 45: Train Loss=0.0049, Val Loss=0.4117, Val Acc=88.67%\n"
          ]
        },
        {
          "metadata": {
            "tags": null
          },
          "name": "stderr",
          "output_type": "stream",
          "text": [
            "Epoch 46/200 [Train]: 100%|██████████| 64/64 [00:08<00:00,  7.38it/s, loss=0.00202]\n",
            "Epoch 46/200 [Val]: 100%|██████████| 577/577 [00:49<00:00, 11.61it/s, val_loss=0.728]\n"
          ]
        },
        {
          "metadata": {
            "tags": null
          },
          "name": "stdout",
          "output_type": "stream",
          "text": [
            "Epoch 46: Train Loss=0.0033, Val Loss=0.4623, Val Acc=87.38%\n"
          ]
        },
        {
          "metadata": {
            "tags": null
          },
          "name": "stderr",
          "output_type": "stream",
          "text": [
            "Epoch 47/200 [Train]: 100%|██████████| 64/64 [00:08<00:00,  7.81it/s, loss=0.0032]\n",
            "Epoch 47/200 [Val]: 100%|██████████| 577/577 [00:50<00:00, 11.49it/s, val_loss=0.604]\n"
          ]
        },
        {
          "metadata": {
            "tags": null
          },
          "name": "stdout",
          "output_type": "stream",
          "text": [
            "Epoch 47: Train Loss=0.0030, Val Loss=0.3928, Val Acc=89.21%\n"
          ]
        },
        {
          "metadata": {
            "tags": null
          },
          "name": "stderr",
          "output_type": "stream",
          "text": [
            "Epoch 48/200 [Train]: 100%|██████████| 64/64 [00:08<00:00,  7.31it/s, loss=0.00778]\n",
            "Epoch 48/200 [Val]: 100%|██████████| 577/577 [00:49<00:00, 11.61it/s, val_loss=0.639]\n"
          ]
        },
        {
          "metadata": {
            "tags": null
          },
          "name": "stdout",
          "output_type": "stream",
          "text": [
            "Epoch 48: Train Loss=0.0044, Val Loss=0.4197, Val Acc=88.40%\n"
          ]
        },
        {
          "metadata": {
            "tags": null
          },
          "name": "stderr",
          "output_type": "stream",
          "text": [
            "Epoch 49/200 [Train]: 100%|██████████| 64/64 [00:08<00:00,  7.99it/s, loss=0.000743]\n",
            "Epoch 49/200 [Val]: 100%|██████████| 577/577 [00:49<00:00, 11.60it/s, val_loss=0.719]\n"
          ]
        },
        {
          "metadata": {
            "tags": null
          },
          "name": "stdout",
          "output_type": "stream",
          "text": [
            "Epoch 49: Train Loss=0.0037, Val Loss=0.4118, Val Acc=88.53%\n"
          ]
        },
        {
          "metadata": {
            "tags": null
          },
          "name": "stderr",
          "output_type": "stream",
          "text": [
            "Epoch 50/200 [Train]: 100%|██████████| 64/64 [00:08<00:00,  7.45it/s, loss=0.000917]\n",
            "Epoch 50/200 [Val]: 100%|██████████| 577/577 [00:49<00:00, 11.76it/s, val_loss=0.779]\n"
          ]
        },
        {
          "metadata": {
            "tags": null
          },
          "name": "stdout",
          "output_type": "stream",
          "text": [
            "Epoch 50: Train Loss=0.0030, Val Loss=0.4220, Val Acc=88.53%\n"
          ]
        },
        {
          "metadata": {
            "tags": null
          },
          "name": "stderr",
          "output_type": "stream",
          "text": [
            "Epoch 51/200 [Train]: 100%|██████████| 64/64 [00:08<00:00,  7.71it/s, loss=0.000866]\n",
            "Epoch 51/200 [Val]: 100%|██████████| 577/577 [00:49<00:00, 11.60it/s, val_loss=0.792]\n"
          ]
        },
        {
          "metadata": {
            "tags": null
          },
          "name": "stdout",
          "output_type": "stream",
          "text": [
            "Epoch 51: Train Loss=0.0028, Val Loss=0.4803, Val Acc=87.42%\n"
          ]
        },
        {
          "metadata": {
            "tags": null
          },
          "name": "stderr",
          "output_type": "stream",
          "text": [
            "Epoch 52/200 [Train]: 100%|██████████| 64/64 [00:08<00:00,  7.43it/s, loss=0.00101]\n",
            "Epoch 52/200 [Val]: 100%|██████████| 577/577 [00:48<00:00, 11.79it/s, val_loss=1.03]\n"
          ]
        },
        {
          "metadata": {
            "tags": null
          },
          "name": "stdout",
          "output_type": "stream",
          "text": [
            "Epoch 52: Train Loss=0.0024, Val Loss=0.4069, Val Acc=89.04%\n"
          ]
        },
        {
          "metadata": {
            "tags": null
          },
          "name": "stderr",
          "output_type": "stream",
          "text": [
            "Epoch 53/200 [Train]: 100%|██████████| 64/64 [00:08<00:00,  7.45it/s, loss=0.00193]\n",
            "Epoch 53/200 [Val]: 100%|██████████| 577/577 [00:50<00:00, 11.52it/s, val_loss=1.05]\n"
          ]
        },
        {
          "metadata": {
            "tags": null
          },
          "name": "stdout",
          "output_type": "stream",
          "text": [
            "Epoch 53: Train Loss=0.0028, Val Loss=0.4126, Val Acc=88.70%\n"
          ]
        },
        {
          "metadata": {
            "tags": null
          },
          "name": "stderr",
          "output_type": "stream",
          "text": [
            "Epoch 54/200 [Train]: 100%|██████████| 64/64 [00:08<00:00,  7.47it/s, loss=0.00135]\n",
            "Epoch 54/200 [Val]: 100%|██████████| 577/577 [00:49<00:00, 11.70it/s, val_loss=0.667]\n"
          ]
        },
        {
          "metadata": {
            "tags": null
          },
          "name": "stdout",
          "output_type": "stream",
          "text": [
            "Epoch 54: Train Loss=0.0129, Val Loss=0.4387, Val Acc=88.19%\n"
          ]
        },
        {
          "metadata": {
            "tags": null
          },
          "name": "stderr",
          "output_type": "stream",
          "text": [
            "Epoch 55/200 [Train]: 100%|██████████| 64/64 [00:08<00:00,  7.51it/s, loss=0.0202]\n",
            "Epoch 55/200 [Val]: 100%|██████████| 577/577 [00:49<00:00, 11.67it/s, val_loss=0.716]\n"
          ]
        },
        {
          "metadata": {
            "tags": null
          },
          "name": "stdout",
          "output_type": "stream",
          "text": [
            "Epoch 55: Train Loss=0.0044, Val Loss=0.5296, Val Acc=86.34%\n"
          ]
        },
        {
          "output_type": "stream",
          "name": "stderr",
          "text": [
            "Epoch 56/200 [Train]: 100%|██████████| 64/64 [00:08<00:00,  7.85it/s, loss=0.00237]\n",
            "Epoch 56/200 [Val]: 100%|██████████| 577/577 [00:50<00:00, 11.53it/s, val_loss=0.998]\n"
          ]
        },
        {
          "output_type": "stream",
          "name": "stdout",
          "text": [
            "Epoch 56: Train Loss=0.0031, Val Loss=0.4931, Val Acc=87.17%\n"
          ]
        },
        {
          "output_type": "stream",
          "name": "stderr",
          "text": [
            "Epoch 57/200 [Train]: 100%|██████████| 64/64 [00:08<00:00,  7.26it/s, loss=0.00577]\n",
            "Epoch 57/200 [Val]: 100%|██████████| 577/577 [00:49<00:00, 11.62it/s, val_loss=0.741]\n"
          ]
        },
        {
          "output_type": "stream",
          "name": "stdout",
          "text": [
            "Epoch 57: Train Loss=0.0029, Val Loss=0.4203, Val Acc=88.79%\n"
          ]
        },
        {
          "output_type": "stream",
          "name": "stderr",
          "text": [
            "Epoch 58/200 [Train]: 100%|██████████| 64/64 [00:08<00:00,  7.93it/s, loss=0.000116]\n",
            "Epoch 58/200 [Val]: 100%|██████████| 577/577 [00:50<00:00, 11.43it/s, val_loss=0.733]\n"
          ]
        },
        {
          "output_type": "stream",
          "name": "stdout",
          "text": [
            "Epoch 58: Train Loss=0.0021, Val Loss=0.4230, Val Acc=88.64%\n"
          ]
        },
        {
          "output_type": "stream",
          "name": "stderr",
          "text": [
            "Epoch 59/200 [Train]: 100%|██████████| 64/64 [00:08<00:00,  7.28it/s, loss=0.000187]\n",
            "Epoch 59/200 [Val]: 100%|██████████| 577/577 [00:51<00:00, 11.31it/s, val_loss=0.853]\n"
          ]
        },
        {
          "output_type": "stream",
          "name": "stdout",
          "text": [
            "Epoch 59: Train Loss=0.0013, Val Loss=0.4308, Val Acc=88.90%\n"
          ]
        },
        {
          "output_type": "stream",
          "name": "stderr",
          "text": [
            "Epoch 60/200 [Train]: 100%|██████████| 64/64 [00:08<00:00,  7.78it/s, loss=0.00024]\n",
            "Epoch 60/200 [Val]: 100%|██████████| 577/577 [00:50<00:00, 11.44it/s, val_loss=0.882]\n"
          ]
        },
        {
          "output_type": "stream",
          "name": "stdout",
          "text": [
            "Epoch 60: Train Loss=0.0017, Val Loss=0.4293, Val Acc=88.73%\n"
          ]
        },
        {
          "output_type": "stream",
          "name": "stderr",
          "text": [
            "Epoch 61/200 [Train]: 100%|██████████| 64/64 [00:08<00:00,  7.39it/s, loss=7.88e-5]\n",
            "Epoch 61/200 [Val]: 100%|██████████| 577/577 [00:49<00:00, 11.63it/s, val_loss=0.858]\n"
          ]
        },
        {
          "output_type": "stream",
          "name": "stdout",
          "text": [
            "Epoch 61: Train Loss=0.0052, Val Loss=0.4401, Val Acc=88.69%\n"
          ]
        },
        {
          "output_type": "stream",
          "name": "stderr",
          "text": [
            "Epoch 62/200 [Train]: 100%|██████████| 64/64 [00:08<00:00,  7.76it/s, loss=0.00104]\n",
            "Epoch 62/200 [Val]: 100%|██████████| 577/577 [00:50<00:00, 11.54it/s, val_loss=0.773]\n"
          ]
        },
        {
          "output_type": "stream",
          "name": "stdout",
          "text": [
            "Epoch 62: Train Loss=0.0045, Val Loss=0.4273, Val Acc=88.53%\n"
          ]
        },
        {
          "output_type": "stream",
          "name": "stderr",
          "text": [
            "Epoch 63/200 [Train]: 100%|██████████| 64/64 [00:08<00:00,  7.18it/s, loss=0.00145]\n",
            "Epoch 63/200 [Val]: 100%|██████████| 577/577 [00:50<00:00, 11.38it/s, val_loss=0.879]\n"
          ]
        },
        {
          "output_type": "stream",
          "name": "stdout",
          "text": [
            "Epoch 63: Train Loss=0.0025, Val Loss=0.4832, Val Acc=87.31%\n"
          ]
        },
        {
          "output_type": "stream",
          "name": "stderr",
          "text": [
            "Epoch 64/200 [Train]: 100%|██████████| 64/64 [00:08<00:00,  7.53it/s, loss=0.00224]\n",
            "Epoch 64/200 [Val]: 100%|██████████| 577/577 [00:51<00:00, 11.29it/s, val_loss=0.916]\n"
          ]
        },
        {
          "output_type": "stream",
          "name": "stdout",
          "text": [
            "Epoch 64: Train Loss=0.0015, Val Loss=0.4218, Val Acc=89.06%\n"
          ]
        },
        {
          "output_type": "stream",
          "name": "stderr",
          "text": [
            "Epoch 65/200 [Train]: 100%|██████████| 64/64 [00:08<00:00,  7.31it/s, loss=0.00161]\n",
            "Epoch 65/200 [Val]:  39%|███▉      | 225/577 [00:18<00:29, 11.85it/s, val_loss=0.000714]\n",
            "ERROR:root:Internal Python error in the inspect module.\n",
            "Below is the traceback from this internal error.\n",
            "\n"
          ]
        },
        {
          "output_type": "stream",
          "name": "stdout",
          "text": [
            "Traceback (most recent call last):\n",
            "  File \"/usr/local/lib/python3.12/dist-packages/IPython/core/interactiveshell.py\", line 3553, in run_code\n",
            "    exec(code_obj, self.user_global_ns, self.user_ns)\n",
            "  File \"/tmp/ipython-input-1986396694.py\", line 37, in <cell line: 0>\n",
            "    out = model(X_batch)\n",
            "          ^^^^^^^^^^^^^^\n",
            "  File \"/usr/local/lib/python3.12/dist-packages/torch/nn/modules/module.py\", line 1773, in _wrapped_call_impl\n",
            "    return self._call_impl(*args, **kwargs)\n",
            "           ^^^^^^^^^^^^^^^^^^^^^^^^^^^^^^^^\n",
            "  File \"/usr/local/lib/python3.12/dist-packages/torch/nn/modules/module.py\", line 1784, in _call_impl\n",
            "    return forward_call(*args, **kwargs)\n",
            "           ^^^^^^^^^^^^^^^^^^^^^^^^^^^^^\n",
            "  File \"/tmp/ipython-input-33987874.py\", line 34, in forward\n",
            "    b4 = self.se4(self.branch4(x))\n",
            "                  ^^^^^^^^^^^^^^^\n",
            "  File \"/usr/local/lib/python3.12/dist-packages/torch/nn/modules/module.py\", line 1773, in _wrapped_call_impl\n",
            "    return self._call_impl(*args, **kwargs)\n",
            "           ^^^^^^^^^^^^^^^^^^^^^^^^^^^^^^^^\n",
            "  File \"/usr/local/lib/python3.12/dist-packages/torch/nn/modules/module.py\", line 1784, in _call_impl\n",
            "    return forward_call(*args, **kwargs)\n",
            "           ^^^^^^^^^^^^^^^^^^^^^^^^^^^^^\n",
            "  File \"/tmp/ipython-input-3290777740.py\", line 52, in forward\n",
            "    arr = x_perm[i,b].detach().cpu().numpy()\n",
            "          ^^^^^^^^^^^^^^^^^^^^^^^^^^\n",
            "KeyboardInterrupt\n",
            "\n",
            "During handling of the above exception, another exception occurred:\n",
            "\n",
            "Traceback (most recent call last):\n",
            "  File \"/usr/local/lib/python3.12/dist-packages/IPython/core/interactiveshell.py\", line 2099, in showtraceback\n",
            "    stb = value._render_traceback_()\n",
            "          ^^^^^^^^^^^^^^^^^^^^^^^^\n",
            "AttributeError: 'KeyboardInterrupt' object has no attribute '_render_traceback_'\n",
            "\n",
            "During handling of the above exception, another exception occurred:\n",
            "\n",
            "Traceback (most recent call last):\n",
            "  File \"/usr/local/lib/python3.12/dist-packages/IPython/core/ultratb.py\", line 1101, in get_records\n",
            "    return _fixed_getinnerframes(etb, number_of_lines_of_context, tb_offset)\n",
            "           ^^^^^^^^^^^^^^^^^^^^^^^^^^^^^^^^^^^^^^^^^^^^^^^^^^^^^^^^^^^^^^^^^\n",
            "  File \"/usr/local/lib/python3.12/dist-packages/IPython/core/ultratb.py\", line 248, in wrapped\n",
            "    return f(*args, **kwargs)\n",
            "           ^^^^^^^^^^^^^^^^^^\n",
            "  File \"/usr/local/lib/python3.12/dist-packages/IPython/core/ultratb.py\", line 293, in _fixed_getinnerframes\n",
            "    aux = traceback.extract_tb(etb)\n",
            "          ^^^^^^^^^^^^^^^^^^^^^^^^^\n",
            "  File \"/usr/lib/python3.12/traceback.py\", line 74, in extract_tb\n",
            "    return StackSummary._extract_from_extended_frame_gen(\n",
            "           ^^^^^^^^^^^^^^^^^^^^^^^^^^^^^^^^^^^^^^^^^^^^^^\n",
            "  File \"/usr/lib/python3.12/traceback.py\", line 418, in _extract_from_extended_frame_gen\n",
            "    for f, (lineno, end_lineno, colno, end_colno) in frame_gen:\n",
            "                                                     ^^^^^^^^^\n",
            "  File \"/usr/lib/python3.12/traceback.py\", line 355, in _walk_tb_with_full_positions\n",
            "    positions = _get_code_position(tb.tb_frame.f_code, tb.tb_lasti)\n",
            "                ^^^^^^^^^^^^^^^^^^^^^^^^^^^^^^^^^^^^^^^^^^^^^^^^^^^\n",
            "  File \"/usr/lib/python3.12/traceback.py\", line 369, in _get_code_position\n",
            "    return next(itertools.islice(positions_gen, instruction_index // 2, None))\n",
            "           ^^^^^^^^^^^^^^^^^^^^^^^^^^^^^^^^^^^^^^^^^^^^^^^^^^^^^^^^^^^^^^^^^^^\n",
            "KeyboardInterrupt\n"
          ]
        },
        {
          "output_type": "error",
          "ename": "TypeError",
          "evalue": "object of type 'NoneType' has no len()",
          "traceback": [
            "\u001b[0;31m---------------------------------------------------------------------------\u001b[0m",
            "\u001b[0;31mKeyboardInterrupt\u001b[0m                         Traceback (most recent call last)",
            "    \u001b[0;31m[... skipping hidden 1 frame]\u001b[0m\n",
            "\u001b[0;32m/tmp/ipython-input-1986396694.py\u001b[0m in \u001b[0;36m<cell line: 0>\u001b[0;34m()\u001b[0m\n\u001b[1;32m     36\u001b[0m             \u001b[0mX_batch\u001b[0m\u001b[0;34m,\u001b[0m \u001b[0my_batch\u001b[0m \u001b[0;34m=\u001b[0m \u001b[0mX_batch\u001b[0m\u001b[0;34m.\u001b[0m\u001b[0mto\u001b[0m\u001b[0;34m(\u001b[0m\u001b[0mdevice\u001b[0m\u001b[0;34m)\u001b[0m\u001b[0;34m,\u001b[0m \u001b[0my_batch\u001b[0m\u001b[0;34m.\u001b[0m\u001b[0mto\u001b[0m\u001b[0;34m(\u001b[0m\u001b[0mdevice\u001b[0m\u001b[0;34m)\u001b[0m\u001b[0;34m\u001b[0m\u001b[0;34m\u001b[0m\u001b[0m\n\u001b[0;32m---> 37\u001b[0;31m             \u001b[0mout\u001b[0m \u001b[0;34m=\u001b[0m \u001b[0mmodel\u001b[0m\u001b[0;34m(\u001b[0m\u001b[0mX_batch\u001b[0m\u001b[0;34m)\u001b[0m\u001b[0;34m\u001b[0m\u001b[0;34m\u001b[0m\u001b[0m\n\u001b[0m\u001b[1;32m     38\u001b[0m             \u001b[0mloss\u001b[0m \u001b[0;34m=\u001b[0m \u001b[0mcriterion\u001b[0m\u001b[0;34m(\u001b[0m\u001b[0mout\u001b[0m\u001b[0;34m,\u001b[0m \u001b[0my_batch\u001b[0m\u001b[0;34m)\u001b[0m\u001b[0;34m\u001b[0m\u001b[0;34m\u001b[0m\u001b[0m\n",
            "\u001b[0;32m/usr/local/lib/python3.12/dist-packages/torch/nn/modules/module.py\u001b[0m in \u001b[0;36m_wrapped_call_impl\u001b[0;34m(self, *args, **kwargs)\u001b[0m\n\u001b[1;32m   1772\u001b[0m         \u001b[0;32melse\u001b[0m\u001b[0;34m:\u001b[0m\u001b[0;34m\u001b[0m\u001b[0;34m\u001b[0m\u001b[0m\n\u001b[0;32m-> 1773\u001b[0;31m             \u001b[0;32mreturn\u001b[0m \u001b[0mself\u001b[0m\u001b[0;34m.\u001b[0m\u001b[0m_call_impl\u001b[0m\u001b[0;34m(\u001b[0m\u001b[0;34m*\u001b[0m\u001b[0margs\u001b[0m\u001b[0;34m,\u001b[0m \u001b[0;34m**\u001b[0m\u001b[0mkwargs\u001b[0m\u001b[0;34m)\u001b[0m\u001b[0;34m\u001b[0m\u001b[0;34m\u001b[0m\u001b[0m\n\u001b[0m\u001b[1;32m   1774\u001b[0m \u001b[0;34m\u001b[0m\u001b[0m\n",
            "\u001b[0;32m/usr/local/lib/python3.12/dist-packages/torch/nn/modules/module.py\u001b[0m in \u001b[0;36m_call_impl\u001b[0;34m(self, *args, **kwargs)\u001b[0m\n\u001b[1;32m   1783\u001b[0m                 or _global_forward_hooks or _global_forward_pre_hooks):\n\u001b[0;32m-> 1784\u001b[0;31m             \u001b[0;32mreturn\u001b[0m \u001b[0mforward_call\u001b[0m\u001b[0;34m(\u001b[0m\u001b[0;34m*\u001b[0m\u001b[0margs\u001b[0m\u001b[0;34m,\u001b[0m \u001b[0;34m**\u001b[0m\u001b[0mkwargs\u001b[0m\u001b[0;34m)\u001b[0m\u001b[0;34m\u001b[0m\u001b[0;34m\u001b[0m\u001b[0m\n\u001b[0m\u001b[1;32m   1785\u001b[0m \u001b[0;34m\u001b[0m\u001b[0m\n",
            "\u001b[0;32m/tmp/ipython-input-33987874.py\u001b[0m in \u001b[0;36mforward\u001b[0;34m(self, x)\u001b[0m\n\u001b[1;32m     33\u001b[0m         \u001b[0mb3\u001b[0m \u001b[0;34m=\u001b[0m \u001b[0mself\u001b[0m\u001b[0;34m.\u001b[0m\u001b[0mse3\u001b[0m\u001b[0;34m(\u001b[0m\u001b[0mself\u001b[0m\u001b[0;34m.\u001b[0m\u001b[0mbranch3\u001b[0m\u001b[0;34m(\u001b[0m\u001b[0mx\u001b[0m\u001b[0;34m)\u001b[0m\u001b[0;34m)\u001b[0m\u001b[0;34m\u001b[0m\u001b[0;34m\u001b[0m\u001b[0m\n\u001b[0;32m---> 34\u001b[0;31m         \u001b[0mb4\u001b[0m \u001b[0;34m=\u001b[0m \u001b[0mself\u001b[0m\u001b[0;34m.\u001b[0m\u001b[0mse4\u001b[0m\u001b[0;34m(\u001b[0m\u001b[0mself\u001b[0m\u001b[0;34m.\u001b[0m\u001b[0mbranch4\u001b[0m\u001b[0;34m(\u001b[0m\u001b[0mx\u001b[0m\u001b[0;34m)\u001b[0m\u001b[0;34m)\u001b[0m\u001b[0;34m\u001b[0m\u001b[0;34m\u001b[0m\u001b[0m\n\u001b[0m\u001b[1;32m     35\u001b[0m         \u001b[0mfused\u001b[0m \u001b[0;34m=\u001b[0m \u001b[0mtorch\u001b[0m\u001b[0;34m.\u001b[0m\u001b[0mcat\u001b[0m\u001b[0;34m(\u001b[0m\u001b[0;34m[\u001b[0m\u001b[0mb1\u001b[0m\u001b[0;34m,\u001b[0m\u001b[0mb2\u001b[0m\u001b[0;34m,\u001b[0m\u001b[0mb3\u001b[0m\u001b[0;34m,\u001b[0m\u001b[0mb4\u001b[0m\u001b[0;34m]\u001b[0m\u001b[0;34m,\u001b[0m \u001b[0mdim\u001b[0m\u001b[0;34m=\u001b[0m\u001b[0;36m1\u001b[0m\u001b[0;34m)\u001b[0m\u001b[0;34m\u001b[0m\u001b[0;34m\u001b[0m\u001b[0m\n",
            "\u001b[0;32m/usr/local/lib/python3.12/dist-packages/torch/nn/modules/module.py\u001b[0m in \u001b[0;36m_wrapped_call_impl\u001b[0;34m(self, *args, **kwargs)\u001b[0m\n\u001b[1;32m   1772\u001b[0m         \u001b[0;32melse\u001b[0m\u001b[0;34m:\u001b[0m\u001b[0;34m\u001b[0m\u001b[0;34m\u001b[0m\u001b[0m\n\u001b[0;32m-> 1773\u001b[0;31m             \u001b[0;32mreturn\u001b[0m \u001b[0mself\u001b[0m\u001b[0;34m.\u001b[0m\u001b[0m_call_impl\u001b[0m\u001b[0;34m(\u001b[0m\u001b[0;34m*\u001b[0m\u001b[0margs\u001b[0m\u001b[0;34m,\u001b[0m \u001b[0;34m**\u001b[0m\u001b[0mkwargs\u001b[0m\u001b[0;34m)\u001b[0m\u001b[0;34m\u001b[0m\u001b[0;34m\u001b[0m\u001b[0m\n\u001b[0m\u001b[1;32m   1774\u001b[0m \u001b[0;34m\u001b[0m\u001b[0m\n",
            "\u001b[0;32m/usr/local/lib/python3.12/dist-packages/torch/nn/modules/module.py\u001b[0m in \u001b[0;36m_call_impl\u001b[0;34m(self, *args, **kwargs)\u001b[0m\n\u001b[1;32m   1783\u001b[0m                 or _global_forward_hooks or _global_forward_pre_hooks):\n\u001b[0;32m-> 1784\u001b[0;31m             \u001b[0;32mreturn\u001b[0m \u001b[0mforward_call\u001b[0m\u001b[0;34m(\u001b[0m\u001b[0;34m*\u001b[0m\u001b[0margs\u001b[0m\u001b[0;34m,\u001b[0m \u001b[0;34m**\u001b[0m\u001b[0mkwargs\u001b[0m\u001b[0;34m)\u001b[0m\u001b[0;34m\u001b[0m\u001b[0;34m\u001b[0m\u001b[0m\n\u001b[0m\u001b[1;32m   1785\u001b[0m \u001b[0;34m\u001b[0m\u001b[0m\n",
            "\u001b[0;32m/tmp/ipython-input-3290777740.py\u001b[0m in \u001b[0;36mforward\u001b[0;34m(self, x)\u001b[0m\n\u001b[1;32m     51\u001b[0m             \u001b[0;32mfor\u001b[0m \u001b[0mb\u001b[0m \u001b[0;32min\u001b[0m \u001b[0mrange\u001b[0m\u001b[0;34m(\u001b[0m\u001b[0mx_perm\u001b[0m\u001b[0;34m.\u001b[0m\u001b[0mshape\u001b[0m\u001b[0;34m[\u001b[0m\u001b[0;36m1\u001b[0m\u001b[0;34m]\u001b[0m\u001b[0;34m)\u001b[0m\u001b[0;34m:\u001b[0m\u001b[0;34m\u001b[0m\u001b[0;34m\u001b[0m\u001b[0m\n\u001b[0;32m---> 52\u001b[0;31m                 \u001b[0marr\u001b[0m \u001b[0;34m=\u001b[0m \u001b[0mx_perm\u001b[0m\u001b[0;34m[\u001b[0m\u001b[0mi\u001b[0m\u001b[0;34m,\u001b[0m\u001b[0mb\u001b[0m\u001b[0;34m]\u001b[0m\u001b[0;34m.\u001b[0m\u001b[0mdetach\u001b[0m\u001b[0;34m(\u001b[0m\u001b[0;34m)\u001b[0m\u001b[0;34m.\u001b[0m\u001b[0mcpu\u001b[0m\u001b[0;34m(\u001b[0m\u001b[0;34m)\u001b[0m\u001b[0;34m.\u001b[0m\u001b[0mnumpy\u001b[0m\u001b[0;34m(\u001b[0m\u001b[0;34m)\u001b[0m\u001b[0;34m\u001b[0m\u001b[0;34m\u001b[0m\u001b[0m\n\u001b[0m\u001b[1;32m     53\u001b[0m                 \u001b[0mcA\u001b[0m\u001b[0;34m,\u001b[0m \u001b[0mcD\u001b[0m \u001b[0;34m=\u001b[0m \u001b[0mpywt\u001b[0m\u001b[0;34m.\u001b[0m\u001b[0mdwt\u001b[0m\u001b[0;34m(\u001b[0m\u001b[0marr\u001b[0m\u001b[0;34m,\u001b[0m \u001b[0;34m'haar'\u001b[0m\u001b[0;34m)\u001b[0m\u001b[0;34m\u001b[0m\u001b[0;34m\u001b[0m\u001b[0m\n",
            "\u001b[0;31mKeyboardInterrupt\u001b[0m: ",
            "\nDuring handling of the above exception, another exception occurred:\n",
            "\u001b[0;31mAttributeError\u001b[0m                            Traceback (most recent call last)",
            "\u001b[0;32m/usr/local/lib/python3.12/dist-packages/IPython/core/interactiveshell.py\u001b[0m in \u001b[0;36mshowtraceback\u001b[0;34m(self, exc_tuple, filename, tb_offset, exception_only, running_compiled_code)\u001b[0m\n\u001b[1;32m   2098\u001b[0m                         \u001b[0;31m# in the engines. This should return a list of strings.\u001b[0m\u001b[0;34m\u001b[0m\u001b[0;34m\u001b[0m\u001b[0m\n\u001b[0;32m-> 2099\u001b[0;31m                         \u001b[0mstb\u001b[0m \u001b[0;34m=\u001b[0m \u001b[0mvalue\u001b[0m\u001b[0;34m.\u001b[0m\u001b[0m_render_traceback_\u001b[0m\u001b[0;34m(\u001b[0m\u001b[0;34m)\u001b[0m\u001b[0;34m\u001b[0m\u001b[0;34m\u001b[0m\u001b[0m\n\u001b[0m\u001b[1;32m   2100\u001b[0m                     \u001b[0;32mexcept\u001b[0m \u001b[0mException\u001b[0m\u001b[0;34m:\u001b[0m\u001b[0;34m\u001b[0m\u001b[0;34m\u001b[0m\u001b[0m\n",
            "\u001b[0;31mAttributeError\u001b[0m: 'KeyboardInterrupt' object has no attribute '_render_traceback_'",
            "\nDuring handling of the above exception, another exception occurred:\n",
            "\u001b[0;31mTypeError\u001b[0m                                 Traceback (most recent call last)",
            "    \u001b[0;31m[... skipping hidden 1 frame]\u001b[0m\n",
            "\u001b[0;32m/usr/local/lib/python3.12/dist-packages/IPython/core/interactiveshell.py\u001b[0m in \u001b[0;36mshowtraceback\u001b[0;34m(self, exc_tuple, filename, tb_offset, exception_only, running_compiled_code)\u001b[0m\n\u001b[1;32m   2099\u001b[0m                         \u001b[0mstb\u001b[0m \u001b[0;34m=\u001b[0m \u001b[0mvalue\u001b[0m\u001b[0;34m.\u001b[0m\u001b[0m_render_traceback_\u001b[0m\u001b[0;34m(\u001b[0m\u001b[0;34m)\u001b[0m\u001b[0;34m\u001b[0m\u001b[0;34m\u001b[0m\u001b[0m\n\u001b[1;32m   2100\u001b[0m                     \u001b[0;32mexcept\u001b[0m \u001b[0mException\u001b[0m\u001b[0;34m:\u001b[0m\u001b[0;34m\u001b[0m\u001b[0;34m\u001b[0m\u001b[0m\n\u001b[0;32m-> 2101\u001b[0;31m                         stb = self.InteractiveTB.structured_traceback(etype,\n\u001b[0m\u001b[1;32m   2102\u001b[0m                                             value, tb, tb_offset=tb_offset)\n\u001b[1;32m   2103\u001b[0m \u001b[0;34m\u001b[0m\u001b[0m\n",
            "\u001b[0;32m/usr/local/lib/python3.12/dist-packages/IPython/core/ultratb.py\u001b[0m in \u001b[0;36mstructured_traceback\u001b[0;34m(self, etype, value, tb, tb_offset, number_of_lines_of_context)\u001b[0m\n\u001b[1;32m   1365\u001b[0m         \u001b[0;32melse\u001b[0m\u001b[0;34m:\u001b[0m\u001b[0;34m\u001b[0m\u001b[0;34m\u001b[0m\u001b[0m\n\u001b[1;32m   1366\u001b[0m             \u001b[0mself\u001b[0m\u001b[0;34m.\u001b[0m\u001b[0mtb\u001b[0m \u001b[0;34m=\u001b[0m \u001b[0mtb\u001b[0m\u001b[0;34m\u001b[0m\u001b[0;34m\u001b[0m\u001b[0m\n\u001b[0;32m-> 1367\u001b[0;31m         return FormattedTB.structured_traceback(\n\u001b[0m\u001b[1;32m   1368\u001b[0m             self, etype, value, tb, tb_offset, number_of_lines_of_context)\n\u001b[1;32m   1369\u001b[0m \u001b[0;34m\u001b[0m\u001b[0m\n",
            "\u001b[0;32m/usr/local/lib/python3.12/dist-packages/IPython/core/ultratb.py\u001b[0m in \u001b[0;36mstructured_traceback\u001b[0;34m(self, etype, value, tb, tb_offset, number_of_lines_of_context)\u001b[0m\n\u001b[1;32m   1265\u001b[0m         \u001b[0;32mif\u001b[0m \u001b[0mmode\u001b[0m \u001b[0;32min\u001b[0m \u001b[0mself\u001b[0m\u001b[0;34m.\u001b[0m\u001b[0mverbose_modes\u001b[0m\u001b[0;34m:\u001b[0m\u001b[0;34m\u001b[0m\u001b[0;34m\u001b[0m\u001b[0m\n\u001b[1;32m   1266\u001b[0m             \u001b[0;31m# Verbose modes need a full traceback\u001b[0m\u001b[0;34m\u001b[0m\u001b[0;34m\u001b[0m\u001b[0m\n\u001b[0;32m-> 1267\u001b[0;31m             return VerboseTB.structured_traceback(\n\u001b[0m\u001b[1;32m   1268\u001b[0m                 \u001b[0mself\u001b[0m\u001b[0;34m,\u001b[0m \u001b[0metype\u001b[0m\u001b[0;34m,\u001b[0m \u001b[0mvalue\u001b[0m\u001b[0;34m,\u001b[0m \u001b[0mtb\u001b[0m\u001b[0;34m,\u001b[0m \u001b[0mtb_offset\u001b[0m\u001b[0;34m,\u001b[0m \u001b[0mnumber_of_lines_of_context\u001b[0m\u001b[0;34m\u001b[0m\u001b[0;34m\u001b[0m\u001b[0m\n\u001b[1;32m   1269\u001b[0m             )\n",
            "\u001b[0;32m/usr/local/lib/python3.12/dist-packages/IPython/core/ultratb.py\u001b[0m in \u001b[0;36mstructured_traceback\u001b[0;34m(self, etype, evalue, etb, tb_offset, number_of_lines_of_context)\u001b[0m\n\u001b[1;32m   1122\u001b[0m         \u001b[0;34m\"\"\"Return a nice text document describing the traceback.\"\"\"\u001b[0m\u001b[0;34m\u001b[0m\u001b[0;34m\u001b[0m\u001b[0m\n\u001b[1;32m   1123\u001b[0m \u001b[0;34m\u001b[0m\u001b[0m\n\u001b[0;32m-> 1124\u001b[0;31m         formatted_exception = self.format_exception_as_a_whole(etype, evalue, etb, number_of_lines_of_context,\n\u001b[0m\u001b[1;32m   1125\u001b[0m                                                                tb_offset)\n\u001b[1;32m   1126\u001b[0m \u001b[0;34m\u001b[0m\u001b[0m\n",
            "\u001b[0;32m/usr/local/lib/python3.12/dist-packages/IPython/core/ultratb.py\u001b[0m in \u001b[0;36mformat_exception_as_a_whole\u001b[0;34m(self, etype, evalue, etb, number_of_lines_of_context, tb_offset)\u001b[0m\n\u001b[1;32m   1080\u001b[0m \u001b[0;34m\u001b[0m\u001b[0m\n\u001b[1;32m   1081\u001b[0m \u001b[0;34m\u001b[0m\u001b[0m\n\u001b[0;32m-> 1082\u001b[0;31m         \u001b[0mlast_unique\u001b[0m\u001b[0;34m,\u001b[0m \u001b[0mrecursion_repeat\u001b[0m \u001b[0;34m=\u001b[0m \u001b[0mfind_recursion\u001b[0m\u001b[0;34m(\u001b[0m\u001b[0morig_etype\u001b[0m\u001b[0;34m,\u001b[0m \u001b[0mevalue\u001b[0m\u001b[0;34m,\u001b[0m \u001b[0mrecords\u001b[0m\u001b[0;34m)\u001b[0m\u001b[0;34m\u001b[0m\u001b[0;34m\u001b[0m\u001b[0m\n\u001b[0m\u001b[1;32m   1083\u001b[0m \u001b[0;34m\u001b[0m\u001b[0m\n\u001b[1;32m   1084\u001b[0m         \u001b[0mframes\u001b[0m \u001b[0;34m=\u001b[0m \u001b[0mself\u001b[0m\u001b[0;34m.\u001b[0m\u001b[0mformat_records\u001b[0m\u001b[0;34m(\u001b[0m\u001b[0mrecords\u001b[0m\u001b[0;34m,\u001b[0m \u001b[0mlast_unique\u001b[0m\u001b[0;34m,\u001b[0m \u001b[0mrecursion_repeat\u001b[0m\u001b[0;34m)\u001b[0m\u001b[0;34m\u001b[0m\u001b[0;34m\u001b[0m\u001b[0m\n",
            "\u001b[0;32m/usr/local/lib/python3.12/dist-packages/IPython/core/ultratb.py\u001b[0m in \u001b[0;36mfind_recursion\u001b[0;34m(etype, value, records)\u001b[0m\n\u001b[1;32m    380\u001b[0m     \u001b[0;31m# first frame (from in to out) that looks different.\u001b[0m\u001b[0;34m\u001b[0m\u001b[0;34m\u001b[0m\u001b[0m\n\u001b[1;32m    381\u001b[0m     \u001b[0;32mif\u001b[0m \u001b[0;32mnot\u001b[0m \u001b[0mis_recursion_error\u001b[0m\u001b[0;34m(\u001b[0m\u001b[0metype\u001b[0m\u001b[0;34m,\u001b[0m \u001b[0mvalue\u001b[0m\u001b[0;34m,\u001b[0m \u001b[0mrecords\u001b[0m\u001b[0;34m)\u001b[0m\u001b[0;34m:\u001b[0m\u001b[0;34m\u001b[0m\u001b[0;34m\u001b[0m\u001b[0m\n\u001b[0;32m--> 382\u001b[0;31m         \u001b[0;32mreturn\u001b[0m \u001b[0mlen\u001b[0m\u001b[0;34m(\u001b[0m\u001b[0mrecords\u001b[0m\u001b[0;34m)\u001b[0m\u001b[0;34m,\u001b[0m \u001b[0;36m0\u001b[0m\u001b[0;34m\u001b[0m\u001b[0;34m\u001b[0m\u001b[0m\n\u001b[0m\u001b[1;32m    383\u001b[0m \u001b[0;34m\u001b[0m\u001b[0m\n\u001b[1;32m    384\u001b[0m     \u001b[0;31m# Select filename, lineno, func_name to track frames with\u001b[0m\u001b[0;34m\u001b[0m\u001b[0;34m\u001b[0m\u001b[0m\n",
            "\u001b[0;31mTypeError\u001b[0m: object of type 'NoneType' has no len()"
          ]
        }
      ]
    },
    {
      "cell_type": "code",
      "source": [
        "import matplotlib.pyplot as plt\n",
        "\n",
        "# Load checkpoint\n",
        "checkpoint = torch.load(\"checkpoint_epoch_59.pth\", map_location=device)\n",
        "\n",
        "# Extract lists (replace keys if your checkpoint used different names)\n",
        "train_losses = checkpoint.get('train_losses', [])\n",
        "val_losses = checkpoint.get('val_losses', [])\n",
        "val_accs = checkpoint.get('val_accs', [])\n",
        "\n",
        "epochs = range(1, len(train_losses)+1)\n",
        "\n",
        "# Plot Loss\n",
        "plt.figure(figsize=(10,4))\n",
        "plt.plot(epochs, train_losses, label='Train Loss')\n",
        "plt.plot(epochs, val_losses, label='Validation Loss')\n",
        "plt.xlabel('Epoch')\n",
        "plt.ylabel('Loss')\n",
        "plt.title('Training & Validation Loss')\n",
        "plt.legend()\n",
        "plt.show()\n",
        "\n",
        "# Plot Accuracy\n",
        "plt.figure(figsize=(10,4))\n",
        "plt.plot(epochs, val_accs, label='Validation Accuracy')\n",
        "plt.xlabel('Epoch')\n",
        "plt.ylabel('Accuracy (%)')\n",
        "plt.title('Validation Accuracy')\n",
        "plt.legend()\n",
        "plt.show()"
      ],
      "metadata": {
        "id": "iz_BoglCkFa3",
        "colab": {
          "base_uri": "https://localhost:8080/",
          "height": 382
        },
        "outputId": "8047d757-7f2f-46c1-c0fe-0e4f4286d561"
      },
      "execution_count": 35,
      "outputs": [
        {
          "output_type": "error",
          "ename": "FileNotFoundError",
          "evalue": "[Errno 2] No such file or directory: 'checkpoint_epoch_59.pth'",
          "traceback": [
            "\u001b[0;31m---------------------------------------------------------------------------\u001b[0m",
            "\u001b[0;31mFileNotFoundError\u001b[0m                         Traceback (most recent call last)",
            "\u001b[0;32m/tmp/ipython-input-257856615.py\u001b[0m in \u001b[0;36m<cell line: 0>\u001b[0;34m()\u001b[0m\n\u001b[1;32m      2\u001b[0m \u001b[0;34m\u001b[0m\u001b[0m\n\u001b[1;32m      3\u001b[0m \u001b[0;31m# Load checkpoint\u001b[0m\u001b[0;34m\u001b[0m\u001b[0;34m\u001b[0m\u001b[0m\n\u001b[0;32m----> 4\u001b[0;31m \u001b[0mcheckpoint\u001b[0m \u001b[0;34m=\u001b[0m \u001b[0mtorch\u001b[0m\u001b[0;34m.\u001b[0m\u001b[0mload\u001b[0m\u001b[0;34m(\u001b[0m\u001b[0;34m\"checkpoint_epoch_59.pth\"\u001b[0m\u001b[0;34m,\u001b[0m \u001b[0mmap_location\u001b[0m\u001b[0;34m=\u001b[0m\u001b[0mdevice\u001b[0m\u001b[0;34m)\u001b[0m\u001b[0;34m\u001b[0m\u001b[0;34m\u001b[0m\u001b[0m\n\u001b[0m\u001b[1;32m      5\u001b[0m \u001b[0;34m\u001b[0m\u001b[0m\n\u001b[1;32m      6\u001b[0m \u001b[0;31m# Extract lists (replace keys if your checkpoint used different names)\u001b[0m\u001b[0;34m\u001b[0m\u001b[0;34m\u001b[0m\u001b[0m\n",
            "\u001b[0;32m/usr/local/lib/python3.12/dist-packages/torch/serialization.py\u001b[0m in \u001b[0;36mload\u001b[0;34m(f, map_location, pickle_module, weights_only, mmap, **pickle_load_args)\u001b[0m\n\u001b[1;32m   1482\u001b[0m         \u001b[0mpickle_load_args\u001b[0m\u001b[0;34m[\u001b[0m\u001b[0;34m\"encoding\"\u001b[0m\u001b[0;34m]\u001b[0m \u001b[0;34m=\u001b[0m \u001b[0;34m\"utf-8\"\u001b[0m\u001b[0;34m\u001b[0m\u001b[0;34m\u001b[0m\u001b[0m\n\u001b[1;32m   1483\u001b[0m \u001b[0;34m\u001b[0m\u001b[0m\n\u001b[0;32m-> 1484\u001b[0;31m     \u001b[0;32mwith\u001b[0m \u001b[0m_open_file_like\u001b[0m\u001b[0;34m(\u001b[0m\u001b[0mf\u001b[0m\u001b[0;34m,\u001b[0m \u001b[0;34m\"rb\"\u001b[0m\u001b[0;34m)\u001b[0m \u001b[0;32mas\u001b[0m \u001b[0mopened_file\u001b[0m\u001b[0;34m:\u001b[0m\u001b[0;34m\u001b[0m\u001b[0;34m\u001b[0m\u001b[0m\n\u001b[0m\u001b[1;32m   1485\u001b[0m         \u001b[0;32mif\u001b[0m \u001b[0m_is_zipfile\u001b[0m\u001b[0;34m(\u001b[0m\u001b[0mopened_file\u001b[0m\u001b[0;34m)\u001b[0m\u001b[0;34m:\u001b[0m\u001b[0;34m\u001b[0m\u001b[0;34m\u001b[0m\u001b[0m\n\u001b[1;32m   1486\u001b[0m             \u001b[0;31m# The zipfile reader is going to advance the current file position.\u001b[0m\u001b[0;34m\u001b[0m\u001b[0;34m\u001b[0m\u001b[0m\n",
            "\u001b[0;32m/usr/local/lib/python3.12/dist-packages/torch/serialization.py\u001b[0m in \u001b[0;36m_open_file_like\u001b[0;34m(name_or_buffer, mode)\u001b[0m\n\u001b[1;32m    757\u001b[0m \u001b[0;32mdef\u001b[0m \u001b[0m_open_file_like\u001b[0m\u001b[0;34m(\u001b[0m\u001b[0mname_or_buffer\u001b[0m\u001b[0;34m:\u001b[0m \u001b[0mFileLike\u001b[0m\u001b[0;34m,\u001b[0m \u001b[0mmode\u001b[0m\u001b[0;34m:\u001b[0m \u001b[0mstr\u001b[0m\u001b[0;34m)\u001b[0m \u001b[0;34m->\u001b[0m \u001b[0m_opener\u001b[0m\u001b[0;34m[\u001b[0m\u001b[0mIO\u001b[0m\u001b[0;34m[\u001b[0m\u001b[0mbytes\u001b[0m\u001b[0;34m]\u001b[0m\u001b[0;34m]\u001b[0m\u001b[0;34m:\u001b[0m\u001b[0;34m\u001b[0m\u001b[0;34m\u001b[0m\u001b[0m\n\u001b[1;32m    758\u001b[0m     \u001b[0;32mif\u001b[0m \u001b[0m_is_path\u001b[0m\u001b[0;34m(\u001b[0m\u001b[0mname_or_buffer\u001b[0m\u001b[0;34m)\u001b[0m\u001b[0;34m:\u001b[0m\u001b[0;34m\u001b[0m\u001b[0;34m\u001b[0m\u001b[0m\n\u001b[0;32m--> 759\u001b[0;31m         \u001b[0;32mreturn\u001b[0m \u001b[0m_open_file\u001b[0m\u001b[0;34m(\u001b[0m\u001b[0mname_or_buffer\u001b[0m\u001b[0;34m,\u001b[0m \u001b[0mmode\u001b[0m\u001b[0;34m)\u001b[0m\u001b[0;34m\u001b[0m\u001b[0;34m\u001b[0m\u001b[0m\n\u001b[0m\u001b[1;32m    760\u001b[0m     \u001b[0;32melse\u001b[0m\u001b[0;34m:\u001b[0m\u001b[0;34m\u001b[0m\u001b[0;34m\u001b[0m\u001b[0m\n\u001b[1;32m    761\u001b[0m         \u001b[0;32mif\u001b[0m \u001b[0;34m\"w\"\u001b[0m \u001b[0;32min\u001b[0m \u001b[0mmode\u001b[0m\u001b[0;34m:\u001b[0m\u001b[0;34m\u001b[0m\u001b[0;34m\u001b[0m\u001b[0m\n",
            "\u001b[0;32m/usr/local/lib/python3.12/dist-packages/torch/serialization.py\u001b[0m in \u001b[0;36m__init__\u001b[0;34m(self, name, mode)\u001b[0m\n\u001b[1;32m    738\u001b[0m \u001b[0;32mclass\u001b[0m \u001b[0m_open_file\u001b[0m\u001b[0;34m(\u001b[0m\u001b[0m_opener\u001b[0m\u001b[0;34m[\u001b[0m\u001b[0mIO\u001b[0m\u001b[0;34m[\u001b[0m\u001b[0mbytes\u001b[0m\u001b[0;34m]\u001b[0m\u001b[0;34m]\u001b[0m\u001b[0;34m)\u001b[0m\u001b[0;34m:\u001b[0m\u001b[0;34m\u001b[0m\u001b[0;34m\u001b[0m\u001b[0m\n\u001b[1;32m    739\u001b[0m     \u001b[0;32mdef\u001b[0m \u001b[0m__init__\u001b[0m\u001b[0;34m(\u001b[0m\u001b[0mself\u001b[0m\u001b[0;34m,\u001b[0m \u001b[0mname\u001b[0m\u001b[0;34m:\u001b[0m \u001b[0mUnion\u001b[0m\u001b[0;34m[\u001b[0m\u001b[0mstr\u001b[0m\u001b[0;34m,\u001b[0m \u001b[0mos\u001b[0m\u001b[0;34m.\u001b[0m\u001b[0mPathLike\u001b[0m\u001b[0;34m[\u001b[0m\u001b[0mstr\u001b[0m\u001b[0;34m]\u001b[0m\u001b[0;34m]\u001b[0m\u001b[0;34m,\u001b[0m \u001b[0mmode\u001b[0m\u001b[0;34m:\u001b[0m \u001b[0mstr\u001b[0m\u001b[0;34m)\u001b[0m \u001b[0;34m->\u001b[0m \u001b[0;32mNone\u001b[0m\u001b[0;34m:\u001b[0m\u001b[0;34m\u001b[0m\u001b[0;34m\u001b[0m\u001b[0m\n\u001b[0;32m--> 740\u001b[0;31m         \u001b[0msuper\u001b[0m\u001b[0;34m(\u001b[0m\u001b[0;34m)\u001b[0m\u001b[0;34m.\u001b[0m\u001b[0m__init__\u001b[0m\u001b[0;34m(\u001b[0m\u001b[0mopen\u001b[0m\u001b[0;34m(\u001b[0m\u001b[0mname\u001b[0m\u001b[0;34m,\u001b[0m \u001b[0mmode\u001b[0m\u001b[0;34m)\u001b[0m\u001b[0;34m)\u001b[0m\u001b[0;34m\u001b[0m\u001b[0;34m\u001b[0m\u001b[0m\n\u001b[0m\u001b[1;32m    741\u001b[0m \u001b[0;34m\u001b[0m\u001b[0m\n\u001b[1;32m    742\u001b[0m     \u001b[0;32mdef\u001b[0m \u001b[0m__exit__\u001b[0m\u001b[0;34m(\u001b[0m\u001b[0mself\u001b[0m\u001b[0;34m,\u001b[0m \u001b[0;34m*\u001b[0m\u001b[0margs\u001b[0m\u001b[0;34m)\u001b[0m\u001b[0;34m:\u001b[0m\u001b[0;34m\u001b[0m\u001b[0;34m\u001b[0m\u001b[0m\n",
            "\u001b[0;31mFileNotFoundError\u001b[0m: [Errno 2] No such file or directory: 'checkpoint_epoch_59.pth'"
          ]
        }
      ]
    },
    {
      "cell_type": "code",
      "source": [
        "import torch\n",
        "from torch.utils.data import DataLoader\n",
        "\n",
        "# --- Load the best model checkpoint ---\n",
        "checkpoint = torch.load(\"best_model.pth\", map_location=device)\n",
        "model.load_state_dict(checkpoint)\n",
        "model.to(device)\n",
        "model.eval()\n",
        "\n",
        "# --- Initialize metrics ---\n",
        "test_loss = 0\n",
        "correct = 0\n",
        "total = 0\n",
        "\n",
        "# --- Define criterion if not already defined ---\n",
        "# criterion = torch.nn.CrossEntropyLoss()  # Already defined in your training code\n",
        "\n",
        "# --- Test Loop ---\n",
        "with torch.no_grad():\n",
        "    test_loader_tqdm = tqdm(test_loader, desc=\"Testing\")\n",
        "    for X_batch, y_batch in test_loader_tqdm:\n",
        "        X_batch, y_batch = X_batch.to(device), y_batch.to(device)\n",
        "        outputs = model(X_batch)\n",
        "        loss = criterion(outputs, y_batch)\n",
        "        test_loss += loss.item() * X_batch.size(0)\n",
        "\n",
        "        preds = outputs.argmax(dim=1)\n",
        "        correct += (preds == y_batch).sum().item()\n",
        "        total += y_batch.size(0)\n",
        "        test_loader_tqdm.set_postfix({\"loss\": loss.item()})\n",
        "\n",
        "# --- Compute final metrics ---\n",
        "test_loss /= len(test_loader.dataset)\n",
        "test_acc = correct / total * 100\n",
        "\n",
        "print(f\"Test Loss: {test_loss:.4f}, Test Accuracy: {test_acc:.2f}%\")"
      ],
      "metadata": {
        "colab": {
          "base_uri": "https://localhost:8080/"
        },
        "id": "wkc4JegRskyJ",
        "outputId": "2b22c81e-ed2f-44f7-da45-b3fc3d140a27"
      },
      "execution_count": 36,
      "outputs": [
        {
          "output_type": "stream",
          "name": "stderr",
          "text": [
            "Testing: 100%|██████████| 577/577 [00:51<00:00, 11.19it/s, loss=0.576]"
          ]
        },
        {
          "output_type": "stream",
          "name": "stdout",
          "text": [
            "Test Loss: 0.3277, Test Accuracy: 89.47%\n"
          ]
        },
        {
          "output_type": "stream",
          "name": "stderr",
          "text": [
            "\n"
          ]
        }
      ]
    },
    {
      "cell_type": "code",
      "source": [
        "import matplotlib.pyplot as plt\n",
        "\n",
        "plt.figure(figsize=(10,5))\n",
        "plt.plot(val_accuracies, label='Validation Accuracy', marker='o')\n",
        "\n",
        "\n",
        "plt.xlabel('Epoch')\n",
        "plt.ylabel('Accuracy (%)')\n",
        "plt.title('Epoch vs Validation Accuracy')\n",
        "plt.legend()\n",
        "plt.grid(True)\n",
        "plt.show()"
      ],
      "metadata": {
        "colab": {
          "base_uri": "https://localhost:8080/",
          "height": 443
        },
        "id": "AdPiPrIEs0c8",
        "outputId": "d9f8d926-0bc0-43e2-cec4-9e1b019e5f7f"
      },
      "execution_count": 40,
      "outputs": [
        {
          "output_type": "display_data",
          "data": {
            "text/plain": [
              "<Figure size 1000x500 with 1 Axes>"
            ],
            "image/png": "[encoded data removed]"
          },
          "metadata": {}
        }
      ]
    },
    {
      "cell_type": "code",
      "source": [
        "val_accuracies"
      ],
      "metadata": {
        "colab": {
          "base_uri": "https://localhost:8080/"
        },
        "id": "E6m9rsIItJEo",
        "outputId": "ca349a8c-cb51-4820-f751-a52e33070987"
      },
      "execution_count": 41,
      "outputs": [
        {
          "output_type": "execute_result",
          "data": {
            "text/plain": [
              "[68.1291301050807,\n",
              " 76.8497454230311,\n",
              " 65.20420322825262,\n",
              " 85.79785505362366,\n",
              " 84.75788105297367,\n",
              " 78.46387173653993,\n",
              " 81.91961867619976,\n",
              " 86.90282742931427,\n",
              " 87.54197811721373,\n",
              " 87.10865561694291,\n",
              " 85.24536886577836,\n",
              " 88.5494529303434,\n",
              " 84.270393240169,\n",
              " 86.79449680424656,\n",
              " 88.7769472429856,\n",
              " 88.27862636767414,\n",
              " 84.98537536561585,\n",
              " 88.72278193045175,\n",
              " 88.9611093056007,\n",
              " 86.17701224136063,\n",
              " 88.8094464305059,\n",
              " 88.32195861770123,\n",
              " 89.06943993066841,\n",
              " 83.3820821146138,\n",
              " 87.40114830462572,\n",
              " 86.95699274184811,\n",
              " 88.74444805546527,\n",
              " 88.48445455530279,\n",
              " 88.74444805546527,\n",
              " 88.95027624309392,\n",
              " 88.43028924276894,\n",
              " 88.89611093056007,\n",
              " 89.03694074314808,\n",
              " 89.23193586826996,\n",
              " 88.97194236810746,\n",
              " 88.993608493121,\n",
              " 89.1777705557361,\n",
              " 89.08027299317517,\n",
              " 89.25360199328351,\n",
              " 89.32943343083089,\n",
              " 89.37276568085798,\n",
              " 89.23193586826996,\n",
              " 89.40526486837828,\n",
              " 89.44859711840537,\n",
              " 89.23193586826996,\n",
              " 89.42693099339184,\n",
              " 89.37276568085798,\n",
              " 89.30776730581735,\n",
              " 89.48109630592569,\n",
              " 89.37276568085798,\n",
              " 89.30776730581735,\n",
              " 89.34026649333767,\n",
              " 89.23193586826996,\n",
              " 89.3619326183512,\n",
              " 89.39443180587152,\n",
              " 89.27526811829705,\n",
              " 89.34026649333767,\n",
              " 89.44859711840537,\n",
              " 89.47026324341891,\n",
              " 89.30776730581735,\n",
              " 89.35109955584444,\n",
              " 89.42693099339184,\n",
              " 89.47026324341891,\n",
              " 89.32943343083089,\n",
              " 89.30776730581735,\n",
              " 89.37276568085798,\n",
              " 89.31860036832413,\n",
              " 89.29693424331059,\n",
              " 89.39443180587152,\n",
              " 89.28610118080381,\n",
              " 89.26443505579027,\n",
              " 89.29693424331059,\n",
              " 89.26443505579027,\n",
              " 89.28610118080381,\n",
              " 89.23193586826996]"
            ]
          },
          "metadata": {},
          "execution_count": 41
        }
      ]
    },
    {
      "cell_type": "code",
      "source": [],
      "metadata": {
        "id": "XwMlKGQgteDO"
      },
      "execution_count": null,
      "outputs": []
    }
  ]
}